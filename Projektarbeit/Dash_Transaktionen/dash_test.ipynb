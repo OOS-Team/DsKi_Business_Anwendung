{
 "cells": [
  {
   "cell_type": "code",
   "execution_count": 1,
   "metadata": {},
   "outputs": [
    {
     "name": "stdout",
     "output_type": "stream",
     "text": [
      "Requirement already satisfied: dash in c:\\users\\wuensche\\anaconda3\\lib\\site-packages (2.14.1)\n",
      "Requirement already satisfied: typing-extensions>=4.1.1 in c:\\users\\wuensche\\anaconda3\\lib\\site-packages (from dash) (4.3.0)\n",
      "Requirement already satisfied: Werkzeug<3.1 in c:\\users\\wuensche\\anaconda3\\lib\\site-packages (from dash) (2.0.3)\n",
      "Requirement already satisfied: dash-html-components==2.0.0 in c:\\users\\wuensche\\anaconda3\\lib\\site-packages (from dash) (2.0.0)\n",
      "Requirement already satisfied: plotly>=5.0.0 in c:\\users\\wuensche\\anaconda3\\lib\\site-packages (from dash) (5.9.0)\n",
      "Requirement already satisfied: setuptools in c:\\users\\wuensche\\anaconda3\\lib\\site-packages (from dash) (63.4.1)\n",
      "Requirement already satisfied: retrying in c:\\users\\wuensche\\anaconda3\\lib\\site-packages (from dash) (1.3.4)\n",
      "Requirement already satisfied: importlib-metadata in c:\\users\\wuensche\\anaconda3\\lib\\site-packages (from dash) (4.11.3)\n",
      "Requirement already satisfied: ansi2html in c:\\users\\wuensche\\anaconda3\\lib\\site-packages (from dash) (1.8.0)\n",
      "Requirement already satisfied: Flask<3.1,>=1.0.4 in c:\\users\\wuensche\\anaconda3\\lib\\site-packages (from dash) (1.1.2)\n",
      "Requirement already satisfied: dash-core-components==2.0.0 in c:\\users\\wuensche\\anaconda3\\lib\\site-packages (from dash) (2.0.0)\n",
      "Requirement already satisfied: dash-table==5.0.0 in c:\\users\\wuensche\\anaconda3\\lib\\site-packages (from dash) (5.0.0)\n",
      "Requirement already satisfied: requests in c:\\users\\wuensche\\anaconda3\\lib\\site-packages (from dash) (2.28.1)\n",
      "Requirement already satisfied: nest-asyncio in c:\\users\\wuensche\\anaconda3\\lib\\site-packages (from dash) (1.5.5)\n",
      "Requirement already satisfied: Jinja2>=2.10.1 in c:\\users\\wuensche\\anaconda3\\lib\\site-packages (from Flask<3.1,>=1.0.4->dash) (2.11.3)\n",
      "Requirement already satisfied: click>=5.1 in c:\\users\\wuensche\\anaconda3\\lib\\site-packages (from Flask<3.1,>=1.0.4->dash) (8.0.4)\n",
      "Requirement already satisfied: itsdangerous>=0.24 in c:\\users\\wuensche\\anaconda3\\lib\\site-packages (from Flask<3.1,>=1.0.4->dash) (2.0.1)\n",
      "Requirement already satisfied: tenacity>=6.2.0 in c:\\users\\wuensche\\anaconda3\\lib\\site-packages (from plotly>=5.0.0->dash) (8.0.1)\n",
      "Requirement already satisfied: zipp>=0.5 in c:\\users\\wuensche\\anaconda3\\lib\\site-packages (from importlib-metadata->dash) (3.8.0)\n",
      "Requirement already satisfied: idna<4,>=2.5 in c:\\users\\wuensche\\anaconda3\\lib\\site-packages (from requests->dash) (3.3)\n",
      "Requirement already satisfied: certifi>=2017.4.17 in c:\\users\\wuensche\\anaconda3\\lib\\site-packages (from requests->dash) (2022.9.14)\n",
      "Requirement already satisfied: charset-normalizer<3,>=2 in c:\\users\\wuensche\\anaconda3\\lib\\site-packages (from requests->dash) (2.0.4)\n",
      "Requirement already satisfied: urllib3<1.27,>=1.21.1 in c:\\users\\wuensche\\anaconda3\\lib\\site-packages (from requests->dash) (1.26.11)\n",
      "Requirement already satisfied: six>=1.7.0 in c:\\users\\wuensche\\anaconda3\\lib\\site-packages (from retrying->dash) (1.16.0)\n",
      "Requirement already satisfied: colorama in c:\\users\\wuensche\\anaconda3\\lib\\site-packages (from click>=5.1->Flask<3.1,>=1.0.4->dash) (0.4.5)\n",
      "Requirement already satisfied: MarkupSafe>=0.23 in c:\\users\\wuensche\\anaconda3\\lib\\site-packages (from Jinja2>=2.10.1->Flask<3.1,>=1.0.4->dash) (2.0.1)\n"
     ]
    }
   ],
   "source": [
    "!pip install dash"
   ]
  },
  {
   "cell_type": "code",
   "execution_count": 2,
   "id": "c17e6541-9f20-4c80-b112-6cb59f5f3e3d",
   "metadata": {},
   "outputs": [
    {
     "name": "stderr",
     "output_type": "stream",
     "text": [
      "c:\\Users\\wuensche\\Anaconda3\\lib\\site-packages\\scipy\\__init__.py:155: UserWarning: A NumPy version >=1.18.5 and <1.25.0 is required for this version of SciPy (detected version 1.26.0\n",
      "  warnings.warn(f\"A NumPy version >={np_minversion} and <{np_maxversion}\"\n"
     ]
    }
   ],
   "source": [
    "import json\n",
    "import pandas as pd\n",
    "import numpy as np\n",
    "from datetime import date\n",
    "import plotly.express as px\n",
    "import plotly.graph_objects as go\n",
    "\n",
    "import dash\n",
    "from dash import html, dcc\n",
    "from dash.dependencies import Input, Output"
   ]
  },
  {
   "cell_type": "markdown",
   "metadata": {},
   "source": [
    "* **Aufgabe 1**\n",
    "  * Für ein ausgewähltes Produkt Abhängigkeit von 'price_level' darstellen mit strip-plot\n",
    "  * Für ein ausgewähltes Produkt Abhängigkeit von 'advertising' darstellen mit strip-plot\n",
    "  * Für ein ausgewähltes Produkt Abhängigkeit von 'advertising' + 'price_level' darstellen mit strip-plot\n",
    "* **Aufgabe 2**\n",
    "  *  Für alle Produkte Abhängigkeit von 'advertising' darstellen"
   ]
  },
  {
   "cell_type": "markdown",
   "id": "cae7fcdd-aab7-4dd8-a43e-f1cb6724e5cd",
   "metadata": {},
   "source": [
    "### Preprocessing"
   ]
  },
  {
   "cell_type": "code",
   "execution_count": 3,
   "id": "d793bbff-5ade-4935-9494-bbcb34bd9e0a",
   "metadata": {},
   "outputs": [],
   "source": [
    "df = pd.read_csv(\"../../data/dunnhumby_BatF_transactions.csv\")\n",
    "\n",
    "df.WEEK_END_DATE = pd.to_datetime(df.WEEK_END_DATE, format=\"%d-%b-%y\")\n",
    "\n",
    "df = df[~df.PRICE.isnull()]\n",
    "\n",
    "df['price_diff'] = df.BASE_PRICE - df.PRICE\n",
    "\n",
    "df['price_direction'] = np.sign(df.price_diff)\n",
    "\n",
    "df['price_level'] = df.price_direction.map({0: 'regular', -1: 'increase', 1: 'discounted'})\n",
    "\n",
    "# Berechnung der Quantile für 'SPEND' innerhalb jeder 'STORE_NUM'\n",
    "df['Umsatz_Quantil'] = df.groupby('STORE_NUM')['SPEND'].transform(\n",
    "    lambda x: pd.qcut(x, 4, labels=['Q1', 'Q2', 'Q3', 'Q4'])\n",
    ")\n"
   ]
  },
  {
   "cell_type": "code",
   "execution_count": 4,
   "metadata": {},
   "outputs": [],
   "source": [
    "def plot_specProd_priceLvl(upc):\n",
    "    fig = px.strip(df[df.UPC == upc], \n",
    "         y='PRICE', \n",
    "         x='WEEK_END_DATE', \n",
    "         color='price_level'\n",
    "    )\n",
    "    return fig"
   ]
  },
  {
   "cell_type": "markdown",
   "id": "d18a98f6-c8e0-4013-b29c-3e81a5fd7210",
   "metadata": {},
   "source": [
    "### Plot Funktionen (mit test)"
   ]
  },
  {
   "cell_type": "code",
   "execution_count": 5,
   "id": "c96c91e2-fde4-4444-92bc-94b2a1a29760",
   "metadata": {},
   "outputs": [],
   "source": [
    "# def plot_allupc():\n",
    "#     fig = px.strip(\n",
    "#         df_upc.set_index('marketing').loc[['N', 'T', 'D', 'F', 'FD']].reset_index(), \n",
    "#         y = 'relative_revenue', \n",
    "#         x = 'marketing',\n",
    "#         #color = 'upc',\n",
    "#         custom_data = ['upc'],\n",
    "#         title = 'Effect per UPC'\n",
    "#     )\n",
    "#     return fig\n",
    "# plot_allupc()"
   ]
  },
  {
   "cell_type": "code",
   "execution_count": 6,
   "id": "a4fe8309-337e-442d-a1dc-6e81e68f04e0",
   "metadata": {},
   "outputs": [],
   "source": [
    "# def plot_upcstore(upc):\n",
    "#     fig = px.strip(\n",
    "#         df_upcstore[df_upcstore.upc == upc], \n",
    "#         y = 'relative_revenue', \n",
    "#         x = 'marketing',\n",
    "#         #color = 'store_id',\n",
    "#         category_orders = {'marketing': ['N', 'T', 'D', 'F', 'FD']},\n",
    "#         title = f'Effect for upc {upc} per Store',\n",
    "#         custom_data = ['upc', 'store_id']\n",
    "#     )\n",
    "#     return fig\n",
    "    \n",
    "# plot_upcstore(3800039118)"
   ]
  },
  {
   "cell_type": "code",
   "execution_count": 7,
   "id": "465b8aa7-a7c8-44ce-84fe-3c1e213ff819",
   "metadata": {},
   "outputs": [],
   "source": [
    "# def plot_upcstoreweek(upc, store_id):\n",
    "#     fig = px.strip(\n",
    "#         df_upcstoreweek[(df_upcstoreweek.UPC == upc) & (df_upcstoreweek.store_id == store_id)], \n",
    "#         y = 'relative_revenue', \n",
    "#         x = 'date', \n",
    "#         color = 'marketing',\n",
    "#         title = f'Weekly UPC: {upc} @ {store_id}'\n",
    "#     )\n",
    "#     return fig\n",
    "# plot_upcstoreweek(3800039118, 367)"
   ]
  },
  {
   "cell_type": "code",
   "execution_count": 8,
   "id": "cd1b0832-fcc9-43db-a7f1-cf820810957f",
   "metadata": {},
   "outputs": [],
   "source": [
    "# def create_default_figure():\n",
    "#     # You can customize this as per your need. Here's an example:\n",
    "#     fig = go.Figure()\n",
    "#     fig.add_trace(go.Scatter(x=[], y=[])) # Empty Scatter Plot\n",
    "#     fig.update_layout(\n",
    "#         title=\"No data selected\",\n",
    "#         xaxis_title=\"X-axis\",\n",
    "#         yaxis_title=\"Y-axis\"\n",
    "#     )\n",
    "#     return fig\n",
    "\n",
    "# create_default_figure()"
   ]
  },
  {
   "cell_type": "markdown",
   "id": "b5249be8-d987-4c3a-a845-2bbaf8bef626",
   "metadata": {},
   "source": [
    "## Create Dashboard"
   ]
  },
  {
   "cell_type": "code",
   "execution_count": 9,
   "id": "72cbc23d-4323-4ea9-ab96-a057952d73f0",
   "metadata": {},
   "outputs": [
    {
     "ename": "SyntaxError",
     "evalue": "invalid syntax (2060969054.py, line 31)",
     "output_type": "error",
     "traceback": [
      "\u001b[1;36m  File \u001b[1;32m\"C:\\Users\\wuensche\\AppData\\Local\\Temp\\ipykernel_23712\\2060969054.py\"\u001b[1;36m, line \u001b[1;32m31\u001b[0m\n\u001b[1;33m    dcc.Graph(id='revenue-time-series-graph'),\u001b[0m\n\u001b[1;37m    ^\u001b[0m\n\u001b[1;31mSyntaxError\u001b[0m\u001b[1;31m:\u001b[0m invalid syntax\n"
     ]
    }
   ],
   "source": [
    "app = dash.Dash(__name__)\n",
    "app.layout = html.Div([\n",
    "    html.H1(\"Marketing Effects (relative Revenue)\"),\n",
    "\n",
    "    # # Komponente zum Anzeigen der Callbackdaten\n",
    "    # html.Div([  \n",
    "    #     dcc.Markdown(\"\"\"**Click Data**\"\"\"),\n",
    "    #     html.Pre(id='jsonVis'), # Pre-formatted text element\n",
    "    # ]),\n",
    "\n",
    "    # # Hauptgrafik\n",
    "    # dcc.Graph(\n",
    "    #     id='main_graph',\n",
    "    #     figure=plot_specProd_priceLvl(1600027527)\n",
    "    # ),\n",
    "    \n",
    "    dcc.Dropdown(\n",
    "        id='product-dropdown',\n",
    "        options=[{'label': i, 'value': i} for i in df['UPC'].unique()],\n",
    "        value=df['UPC'].unique()[0]  # Erstes Produkt als Standardwert\n",
    "    ),\n",
    "\n",
    "    dcc.DatePickerRange(\n",
    "        id='date-picker-ranger',\n",
    "        start_date=date(2009, 1, 14),\n",
    "        end_date=date(2012, 1, 4),\n",
    "        end_date_placeholder_text='Wählen Sie ein Datum aus!'\n",
    "    ),\n",
    "\n",
    "    dcc.Graph(id='revenue-time-series-graph'),\n",
    "    \n",
    "    dcc.Dropdown(\n",
    "        id='quantile-dropdown',\n",
    "        options=[{'label': q, 'value': q} for q in ['Q1', 'Q2', 'Q3', 'Q4']],\n",
    "        value='Q1'  # Erstes Quantil als Standardwert\n",
    "    ),\n",
    "    dcc.Graph(id='marketing-impact-graph'),\n",
    "    \n",
    "    # # Zoomstufe 1\n",
    "    # dcc.Graph(\n",
    "    #     id='storeupc_graph'\n",
    "    # ),\n",
    "\n",
    "    # # Komponente zum Anzeigen der Callbackdaten\n",
    "    # html.Div([\n",
    "    #     dcc.Markdown(\"\"\"**Click Data**\"\"\"),\n",
    "    #     html.Pre(id='jsonVis2'), # Pre-formatted text element\n",
    "    # ]),\n",
    "    \n",
    "    # # Zoomstufe 2\n",
    "    # dcc.Graph(\n",
    "    #     id='storeupcweek_graph'\n",
    "    # ),\n",
    "])\n",
    "\n",
    "# Callbacks für interaktive Inhalte\n",
    "# @app.callback(\n",
    "#     Output(component_id='jsonVis', component_property='children'), # updates the text in the jsonVis component \n",
    "#     Input(component_id='main_graph', component_property='clickData') # whenever a point on the main_graph is clicked.\n",
    "# )\n",
    "# def display_click_data(clickData): #  It displays the click data in JSON format.\n",
    "#     return json.dumps(clickData, indent=2)\n",
    "\n",
    "@app.callback(\n",
    "    Output('revenue-time-series-graph', 'figure'),\n",
    "    [Input('product-dropdown', 'value')]\n",
    ")\n",
    "def update_time_series(selected_product):\n",
    "    # Daten für das ausgewählte Produkt filtern\n",
    "    filtered_df = df[df['UPC'] == selected_product]\n",
    "    \n",
    "    # Umsatz-Zeitreihendiagramm erstellen\n",
    "    fig = px.line(filtered_df, x='WEEK_END_DATE', y='SPEND', title='Umsatz über die Zeit')\n",
    "    return fig\n",
    "\n",
    "@app.callback(\n",
    "    Output('marketing-impact-graph', 'figure'),\n",
    "    [Input('product-dropdown', 'value'),\n",
    "     Input('quantile-dropdown', 'value')]\n",
    ")\n",
    "def update_marketing_impact(selected_product, selected_quantile):\n",
    "    # Daten für das ausgewählte Produkt und Quantil filtern\n",
    "    filtered_df = df[(df['UPC'] == selected_product) & (df['Umsatz_Quantil'] == selected_quantile)]\n",
    "    \n",
    "    # Berechnen des medianen Umsatzes ohne und mit Werbemaßnahmen\n",
    "    median_spend_no_ad = filtered_df[filtered_df['FEATURE'] == 0]['SPEND'].median()\n",
    "    median_spend_with_ad = filtered_df[filtered_df['FEATURE'] == 1]['SPEND'].median()\n",
    "    \n",
    "    # Bar-Graphen für den Vergleich der medianen Umsätze erstellen\n",
    "    fig = px.bar(\n",
    "        x=['Ohne Werbung', 'Mit Werbung'],\n",
    "        y=[median_spend_no_ad, median_spend_with_ad],\n",
    "        title='Impact der Werbemaßnahme auf den Umsatz'\n",
    "    )\n",
    "    return fig\n",
    "\n",
    "# @app.callback(\n",
    "#     Output(component_id='jsonVis2', component_property='children'), # updates the text in the jsonVis component \n",
    "#     Input(component_id='storeupc_graph', component_property='clickData') # whenever a point on the main_graph is clicked.\n",
    "# )\n",
    "# def display_click_data(clickData): #  It displays the click data in JSON format.\n",
    "#     return json.dumps(clickData, indent=2)\n",
    "\n",
    "# @app.callback(\n",
    "#     Output(component_id='storeupc_graph', component_property='figure'), # updates the figure of the storeupc_graph\n",
    "#     Input(component_id='main_graph', component_property='clickData') # whenever there is a click on a main_graph element\n",
    "# )\n",
    "# def update_fig2(clickData):\n",
    "#     if clickData:\n",
    "#         upc = clickData['points'][0]['customdata'][0]\n",
    "#         return plot_upcstore(upc)\n",
    "#     return create_default_figure()\n",
    "\n",
    "# @app.callback(\n",
    "#     Output(component_id='storeupcweek_graph', component_property='figure'),\n",
    "#     Input(component_id='storeupc_graph', component_property='clickData'))\n",
    "# def update_fig3(clickData):\n",
    "#     if clickData:\n",
    "#         upc = clickData['points'][0]['customdata'][0]\n",
    "#         store_id = clickData['points'][0]['customdata'][1]\n",
    "#         return plot_upcstoreweek(upc, store_id)\n",
    "#     return create_default_figure()"
   ]
  },
  {
   "cell_type": "markdown",
   "id": "d7299e4b-ff12-4e99-9ca5-50d5a98b7285",
   "metadata": {},
   "source": [
    "Open Dashboard at `plot.{container_id}.laboration.hochschule-stralsund.de`\n",
    "You find the container_id in the address of you browser"
   ]
  },
  {
   "cell_type": "code",
   "execution_count": null,
   "id": "658bd26b-6d53-4f5f-b099-197b697c5e4c",
   "metadata": {},
   "outputs": [
    {
     "name": "stderr",
     "output_type": "stream",
     "text": [
      "c:\\Users\\wuensche\\Anaconda3\\lib\\site-packages\\_plotly_utils\\basevalidators.py:106: FutureWarning:\n",
      "\n",
      "The behavior of DatetimeProperties.to_pydatetime is deprecated, in a future version this will return a Series containing python datetime objects instead of an ndarray. To retain the old behavior, call `np.array` on the result\n",
      "\n"
     ]
    },
    {
     "name": "stdout",
     "output_type": "stream",
     "text": [
      "Dash app running on http://localhost:8050/\n"
     ]
    },
    {
     "data": {
      "application/javascript": "window.open('http://localhost:8050/')",
      "text/plain": [
       "<IPython.core.display.Javascript object>"
      ]
     },
     "metadata": {},
     "output_type": "display_data"
    },
    {
     "name": "stderr",
     "output_type": "stream",
     "text": [
      "c:\\Users\\wuensche\\Anaconda3\\lib\\site-packages\\_plotly_utils\\basevalidators.py:106: FutureWarning:\n",
      "\n",
      "The behavior of DatetimeProperties.to_pydatetime is deprecated, in a future version this will return a Series containing python datetime objects instead of an ndarray. To retain the old behavior, call `np.array` on the result\n",
      "\n"
     ]
    }
   ],
   "source": [
    "app.run(jupyter_mode=\"tab\", debug=True, host='localhost')"
   ]
  },
  {
   "cell_type": "code",
   "execution_count": null,
   "id": "f00c2dc3-578a-4fdb-97b9-ebcdfb5efa8c",
   "metadata": {},
   "outputs": [],
   "source": []
  }
 ],
 "metadata": {
  "kernelspec": {
   "display_name": "Python 3 (ipykernel)",
   "language": "python",
   "name": "python3"
  },
  "language_info": {
   "codemirror_mode": {
    "name": "ipython",
    "version": 3
   },
   "file_extension": ".py",
   "mimetype": "text/x-python",
   "name": "python",
   "nbconvert_exporter": "python",
   "pygments_lexer": "ipython3",
   "version": "3.9.13"
  }
 },
 "nbformat": 4,
 "nbformat_minor": 5
}
