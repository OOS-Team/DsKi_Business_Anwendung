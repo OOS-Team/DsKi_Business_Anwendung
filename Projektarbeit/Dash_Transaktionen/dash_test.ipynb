{
 "cells": [
  {
   "cell_type": "code",
   "execution_count": 1,
   "metadata": {},
   "outputs": [
    {
     "name": "stdout",
     "output_type": "stream",
     "text": [
      "Requirement already satisfied: dash in /Users/noah/anaconda3/lib/python3.10/site-packages (2.14.1)\n",
      "Requirement already satisfied: setuptools in /Users/noah/anaconda3/lib/python3.10/site-packages (from dash) (65.6.3)\n",
      "Requirement already satisfied: Werkzeug<3.1 in /Users/noah/anaconda3/lib/python3.10/site-packages (from dash) (2.2.2)\n",
      "Requirement already satisfied: dash-core-components==2.0.0 in /Users/noah/anaconda3/lib/python3.10/site-packages (from dash) (2.0.0)\n",
      "Requirement already satisfied: Flask<3.1,>=1.0.4 in /Users/noah/anaconda3/lib/python3.10/site-packages (from dash) (2.2.2)\n",
      "Requirement already satisfied: plotly>=5.0.0 in /Users/noah/anaconda3/lib/python3.10/site-packages (from dash) (5.9.0)\n",
      "Requirement already satisfied: ansi2html in /Users/noah/anaconda3/lib/python3.10/site-packages (from dash) (1.8.0)\n",
      "Requirement already satisfied: importlib-metadata in /Users/noah/anaconda3/lib/python3.10/site-packages (from dash) (6.8.0)\n",
      "Requirement already satisfied: dash-html-components==2.0.0 in /Users/noah/anaconda3/lib/python3.10/site-packages (from dash) (2.0.0)\n",
      "Requirement already satisfied: requests in /Users/noah/anaconda3/lib/python3.10/site-packages (from dash) (2.31.0)\n",
      "Requirement already satisfied: dash-table==5.0.0 in /Users/noah/anaconda3/lib/python3.10/site-packages (from dash) (5.0.0)\n",
      "Requirement already satisfied: retrying in /Users/noah/anaconda3/lib/python3.10/site-packages (from dash) (1.3.4)\n",
      "Requirement already satisfied: nest-asyncio in /Users/noah/.local/lib/python3.10/site-packages (from dash) (1.5.7)\n",
      "Requirement already satisfied: typing-extensions>=4.1.1 in /Users/noah/anaconda3/lib/python3.10/site-packages (from dash) (4.7.1)\n",
      "Requirement already satisfied: Jinja2>=3.0 in /Users/noah/anaconda3/lib/python3.10/site-packages (from Flask<3.1,>=1.0.4->dash) (3.1.2)\n",
      "Requirement already satisfied: itsdangerous>=2.0 in /Users/noah/anaconda3/lib/python3.10/site-packages (from Flask<3.1,>=1.0.4->dash) (2.0.1)\n",
      "Requirement already satisfied: click>=8.0 in /Users/noah/anaconda3/lib/python3.10/site-packages (from Flask<3.1,>=1.0.4->dash) (8.1.6)\n",
      "Requirement already satisfied: tenacity>=6.2.0 in /Users/noah/anaconda3/lib/python3.10/site-packages (from plotly>=5.0.0->dash) (8.0.1)\n",
      "Requirement already satisfied: MarkupSafe>=2.1.1 in /Users/noah/anaconda3/lib/python3.10/site-packages (from Werkzeug<3.1->dash) (2.1.1)\n",
      "Requirement already satisfied: zipp>=0.5 in /Users/noah/anaconda3/lib/python3.10/site-packages (from importlib-metadata->dash) (3.11.0)\n",
      "Requirement already satisfied: charset-normalizer<4,>=2 in /Users/noah/anaconda3/lib/python3.10/site-packages (from requests->dash) (3.2.0)\n",
      "Requirement already satisfied: idna<4,>=2.5 in /Users/noah/anaconda3/lib/python3.10/site-packages (from requests->dash) (3.4)\n",
      "Requirement already satisfied: certifi>=2017.4.17 in /Users/noah/anaconda3/lib/python3.10/site-packages (from requests->dash) (2023.5.7)\n",
      "Requirement already satisfied: urllib3<3,>=1.21.1 in /Users/noah/anaconda3/lib/python3.10/site-packages (from requests->dash) (1.26.14)\n",
      "Requirement already satisfied: six>=1.7.0 in /Users/noah/.local/lib/python3.10/site-packages (from retrying->dash) (1.16.0)\n"
     ]
    }
   ],
   "source": [
    "!pip install dash"
   ]
  },
  {
   "cell_type": "code",
   "execution_count": 2,
   "id": "c17e6541-9f20-4c80-b112-6cb59f5f3e3d",
   "metadata": {},
   "outputs": [],
   "source": [
    "import json\n",
    "import pandas as pd\n",
    "import numpy as np\n",
    "from datetime import date\n",
    "import plotly.express as px\n",
    "import plotly.graph_objects as go\n",
    "\n",
    "import dash\n",
    "from dash import html, dcc\n",
    "from dash.dependencies import Input, Output"
   ]
  },
  {
   "cell_type": "markdown",
   "id": "b37d7901",
   "metadata": {},
   "source": [
    "* **Aufgabe 1**\n",
    "  * Für ein ausgewähltes Produkt Abhängigkeit von 'price_level' darstellen mit strip-plot\n",
    "  * Für ein ausgewähltes Produkt Abhängigkeit von 'advertising' darstellen mit strip-plot\n",
    "  * Für ein ausgewähltes Produkt Abhängigkeit von 'advertising' + 'price_level' darstellen mit strip-plot\n",
    "* **Aufgabe 2**\n",
    "  *  Für alle Produkte Abhängigkeit von 'advertising' darstellen"
   ]
  },
  {
   "cell_type": "markdown",
   "id": "cae7fcdd-aab7-4dd8-a43e-f1cb6724e5cd",
   "metadata": {},
   "source": [
    "### Preprocessing"
   ]
  },
  {
   "cell_type": "code",
   "execution_count": 3,
   "id": "d793bbff-5ade-4935-9494-bbcb34bd9e0a",
   "metadata": {},
   "outputs": [],
   "source": [
    "df = pd.read_csv(\"../../data/dunnhumby_BatF_transactions.csv\")\n",
    "\n",
    "df.WEEK_END_DATE = pd.to_datetime(df.WEEK_END_DATE, format=\"%d-%b-%y\")\n",
    "\n",
    "df = df[~df.PRICE.isnull()]\n",
    "\n",
    "df['price_diff'] = df.BASE_PRICE - df.PRICE\n",
    "\n",
    "df['price_direction'] = np.sign(df.price_diff)\n",
    "\n",
    "df['price_level'] = df.price_direction.map({0: 'regular', -1: 'increase', 1: 'discounted'})\n",
    "\n",
    "# Berechnung der Quantile für 'SPEND' innerhalb jeder 'STORE_NUM'\n",
    "df['Umsatz_Quantil'] = df.groupby('STORE_NUM')['SPEND'].transform(\n",
    "    lambda x: pd.qcut(x, 4, labels=['Q1', 'Q2', 'Q3', 'Q4'])\n",
    ")\n"
   ]
  },
  {
   "cell_type": "code",
   "execution_count": 4,
   "id": "8326ab13",
   "metadata": {},
   "outputs": [],
   "source": [
    "def plot_specProd_priceLvl(upc):\n",
    "    fig = px.strip(df[df.UPC == upc], \n",
    "         y='PRICE', \n",
    "         x='WEEK_END_DATE', \n",
    "         color='price_level'\n",
    "    )\n",
    "    return fig"
   ]
  },
  {
   "cell_type": "markdown",
   "id": "d18a98f6-c8e0-4013-b29c-3e81a5fd7210",
   "metadata": {},
   "source": [
    "### Plot Funktionen (mit test)"
   ]
  },
  {
   "cell_type": "code",
   "execution_count": 5,
   "id": "c96c91e2-fde4-4444-92bc-94b2a1a29760",
   "metadata": {},
   "outputs": [],
   "source": [
    "# def plot_allupc():\n",
    "#     fig = px.strip(\n",
    "#         df_upc.set_index('marketing').loc[['N', 'T', 'D', 'F', 'FD']].reset_index(), \n",
    "#         y = 'relative_revenue', \n",
    "#         x = 'marketing',\n",
    "#         #color = 'upc',\n",
    "#         custom_data = ['upc'],\n",
    "#         title = 'Effect per UPC'\n",
    "#     )\n",
    "#     return fig\n",
    "# plot_allupc()"
   ]
  },
  {
   "cell_type": "code",
   "execution_count": 6,
   "id": "a4fe8309-337e-442d-a1dc-6e81e68f04e0",
   "metadata": {},
   "outputs": [],
   "source": [
    "# def plot_upcstore(upc):\n",
    "#     fig = px.strip(\n",
    "#         df_upcstore[df_upcstore.upc == upc], \n",
    "#         y = 'relative_revenue', \n",
    "#         x = 'marketing',\n",
    "#         #color = 'store_id',\n",
    "#         category_orders = {'marketing': ['N', 'T', 'D', 'F', 'FD']},\n",
    "#         title = f'Effect for upc {upc} per Store',\n",
    "#         custom_data = ['upc', 'store_id']\n",
    "#     )\n",
    "#     return fig\n",
    "    \n",
    "# plot_upcstore(3800039118)"
   ]
  },
  {
   "cell_type": "code",
   "execution_count": 7,
   "id": "465b8aa7-a7c8-44ce-84fe-3c1e213ff819",
   "metadata": {},
   "outputs": [],
   "source": [
    "# def plot_upcstoreweek(upc, store_id):\n",
    "#     fig = px.strip(\n",
    "#         df_upcstoreweek[(df_upcstoreweek.UPC == upc) & (df_upcstoreweek.store_id == store_id)], \n",
    "#         y = 'relative_revenue', \n",
    "#         x = 'date', \n",
    "#         color = 'marketing',\n",
    "#         title = f'Weekly UPC: {upc} @ {store_id}'\n",
    "#     )\n",
    "#     return fig\n",
    "# plot_upcstoreweek(3800039118, 367)"
   ]
  },
  {
   "cell_type": "code",
   "execution_count": 8,
   "id": "cd1b0832-fcc9-43db-a7f1-cf820810957f",
   "metadata": {},
   "outputs": [],
   "source": [
    "# def create_default_figure():\n",
    "#     # You can customize this as per your need. Here's an example:\n",
    "#     fig = go.Figure()\n",
    "#     fig.add_trace(go.Scatter(x=[], y=[])) # Empty Scatter Plot\n",
    "#     fig.update_layout(\n",
    "#         title=\"No data selected\",\n",
    "#         xaxis_title=\"X-axis\",\n",
    "#         yaxis_title=\"Y-axis\"\n",
    "#     )\n",
    "#     return fig\n",
    "\n",
    "# create_default_figure()"
   ]
  },
  {
   "cell_type": "markdown",
   "id": "b5249be8-d987-4c3a-a845-2bbaf8bef626",
   "metadata": {},
   "source": [
    "## Create Dashboard"
   ]
  },
  {
   "cell_type": "code",
   "execution_count": 9,
   "id": "72cbc23d-4323-4ea9-ab96-a057952d73f0",
   "metadata": {},
   "outputs": [],
   "source": [
    "app = dash.Dash(__name__)\n",
    "app.layout = html.Div([\n",
    "    html.H1(\"Marketing Effects (relative Revenue)\"),\n",
    "\n",
    "    # # Komponente zum Anzeigen der Callbackdaten\n",
    "    # html.Div([  \n",
    "    #     dcc.Markdown(\"\"\"**Click Data**\"\"\"),\n",
    "    #     html.Pre(id='jsonVis'), # Pre-formatted text element\n",
    "    # ]),\n",
    "\n",
    "    # # Hauptgrafik\n",
    "    # dcc.Graph(\n",
    "    #     id='main_graph',\n",
    "    #     figure=plot_specProd_priceLvl(1600027527)\n",
    "    # ),\n",
    "    \n",
    "    dcc.Dropdown(\n",
    "        id='product-dropdown',\n",
    "        options=[{'label': i, 'value': i} for i in df['UPC'].unique()],\n",
    "        value=df['UPC'].unique()[0]  # Erstes Produkt als Standardwert\n",
    "    ),\n",
    "\n",
    "    dcc.DatePickerRange(\n",
    "        id='date-picker-ranger',\n",
    "        start_date=date(2009, 1, 14),\n",
    "        end_date=date(2012, 1, 4),\n",
    "        end_date_placeholder_text='Wählen Sie ein Datum aus!'\n",
    "    ),\n",
    "\n",
    "    dcc.Graph(id='revenue-time-series-graph'),\n",
    "    \n",
    "    dcc.Dropdown(\n",
    "        id='quantile-dropdown',\n",
    "        options=[{'label': q, 'value': q} for q in ['Q1', 'Q2', 'Q3', 'Q4']],\n",
    "        value='Q1'  # Erstes Quantil als Standardwert\n",
    "    ),\n",
    "    dcc.Graph(id='marketing-impact-graph'),\n",
    "    \n",
    "    # # Zoomstufe 1\n",
    "    # dcc.Graph(\n",
    "    #     id='storeupc_graph'\n",
    "    # ),\n",
    "\n",
    "    # # Komponente zum Anzeigen der Callbackdaten\n",
    "    # html.Div([\n",
    "    #     dcc.Markdown(\"\"\"**Click Data**\"\"\"),\n",
    "    #     html.Pre(id='jsonVis2'), # Pre-formatted text element\n",
    "    # ]),\n",
    "    \n",
    "    # # Zoomstufe 2\n",
    "    # dcc.Graph(\n",
    "    #     id='storeupcweek_graph'\n",
    "    # ),\n",
    "])\n",
    "\n",
    "# Callbacks für interaktive Inhalte\n",
    "# @app.callback(\n",
    "#     Output(component_id='jsonVis', component_property='children'), # updates the text in the jsonVis component \n",
    "#     Input(component_id='main_graph', component_property='clickData') # whenever a point on the main_graph is clicked.\n",
    "# )\n",
    "# def display_click_data(clickData): #  It displays the click data in JSON format.\n",
    "#     return json.dumps(clickData, indent=2)\n",
    "\n",
    "@app.callback(\n",
    "    Output('revenue-time-series-graph', 'figure'),\n",
    "    [Input('product-dropdown', 'value')]\n",
    ")\n",
    "def update_time_series(selected_product):\n",
    "    # Daten für das ausgewählte Produkt filtern\n",
    "    filtered_df = df[df['UPC'] == selected_product]\n",
    "    \n",
    "    # Umsatz-Zeitreihendiagramm erstellen\n",
    "    fig = px.line(filtered_df, x='WEEK_END_DATE', y='SPEND', title='Umsatz über die Zeit')\n",
    "    return fig\n",
    "\n",
    "@app.callback(\n",
    "    Output('marketing-impact-graph', 'figure'),\n",
    "    [Input('product-dropdown', 'value'),\n",
    "     Input('quantile-dropdown', 'value')]\n",
    ")\n",
    "def update_marketing_impact(selected_product, selected_quantile):\n",
    "    # Daten für das ausgewählte Produkt und Quantil filtern\n",
    "    filtered_df = df[(df['UPC'] == selected_product) & (df['Umsatz_Quantil'] == selected_quantile)]\n",
    "    \n",
    "    # Berechnen des medianen Umsatzes ohne und mit Werbemaßnahmen\n",
    "    median_spend_no_ad = filtered_df[filtered_df['FEATURE'] == 0]['SPEND'].median()\n",
    "    median_spend_with_ad = filtered_df[filtered_df['FEATURE'] == 1]['SPEND'].median()\n",
    "    \n",
    "    # Bar-Graphen für den Vergleich der medianen Umsätze erstellen\n",
    "    fig = px.bar(\n",
    "        x=['Ohne Werbung', 'Mit Werbung'],\n",
    "        y=[median_spend_no_ad, median_spend_with_ad],\n",
    "        title='Impact der Werbemaßnahme auf den Umsatz'\n",
    "    )\n",
    "    return fig\n",
    "\n",
    "# @app.callback(\n",
    "#     Output(component_id='jsonVis2', component_property='children'), # updates the text in the jsonVis component \n",
    "#     Input(component_id='storeupc_graph', component_property='clickData') # whenever a point on the main_graph is clicked.\n",
    "# )\n",
    "# def display_click_data(clickData): #  It displays the click data in JSON format.\n",
    "#     return json.dumps(clickData, indent=2)\n",
    "\n",
    "# @app.callback(\n",
    "#     Output(component_id='storeupc_graph', component_property='figure'), # updates the figure of the storeupc_graph\n",
    "#     Input(component_id='main_graph', component_property='clickData') # whenever there is a click on a main_graph element\n",
    "# )\n",
    "# def update_fig2(clickData):\n",
    "#     if clickData:\n",
    "#         upc = clickData['points'][0]['customdata'][0]\n",
    "#         return plot_upcstore(upc)\n",
    "#     return create_default_figure()\n",
    "\n",
    "# @app.callback(\n",
    "#     Output(component_id='storeupcweek_graph', component_property='figure'),\n",
    "#     Input(component_id='storeupc_graph', component_property='clickData'))\n",
    "# def update_fig3(clickData):\n",
    "#     if clickData:\n",
    "#         upc = clickData['points'][0]['customdata'][0]\n",
    "#         store_id = clickData['points'][0]['customdata'][1]\n",
    "#         return plot_upcstoreweek(upc, store_id)\n",
    "#     return create_default_figure()"
   ]
  },
  {
   "cell_type": "markdown",
   "id": "d7299e4b-ff12-4e99-9ca5-50d5a98b7285",
   "metadata": {},
   "source": [
    "Open Dashboard at `plot.{container_id}.laboration.hochschule-stralsund.de`\n",
    "You find the container_id in the address of you browser"
   ]
  },
  {
   "cell_type": "code",
   "execution_count": 10,
   "id": "658bd26b-6d53-4f5f-b099-197b697c5e4c",
   "metadata": {},
   "outputs": [
    {
     "ename": "OSError",
     "evalue": "[Errno 48] Address already in use",
     "output_type": "error",
     "traceback": [
      "\u001b[0;31m---------------------------------------------------------------------------\u001b[0m",
      "\u001b[0;31mOSError\u001b[0m                                   Traceback (most recent call last)",
      "Cell \u001b[0;32mIn[10], line 1\u001b[0m\n\u001b[0;32m----> 1\u001b[0m app\u001b[39m.\u001b[39;49mrun(jupyter_mode\u001b[39m=\u001b[39;49m\u001b[39m\"\u001b[39;49m\u001b[39mtab\u001b[39;49m\u001b[39m\"\u001b[39;49m, debug\u001b[39m=\u001b[39;49m\u001b[39mTrue\u001b[39;49;00m, host\u001b[39m=\u001b[39;49m\u001b[39m'\u001b[39;49m\u001b[39mlocalhost\u001b[39;49m\u001b[39m'\u001b[39;49m)\n",
      "File \u001b[0;32m~/anaconda3/lib/python3.10/site-packages/dash/dash.py:2066\u001b[0m, in \u001b[0;36mDash.run\u001b[0;34m(self, host, port, proxy, debug, jupyter_mode, jupyter_width, jupyter_height, jupyter_server_url, dev_tools_ui, dev_tools_props_check, dev_tools_serve_dev_bundles, dev_tools_hot_reload, dev_tools_hot_reload_interval, dev_tools_hot_reload_watch_interval, dev_tools_hot_reload_max_retry, dev_tools_silence_routes_logging, dev_tools_prune_errors, **flask_run_options)\u001b[0m\n\u001b[1;32m   2063\u001b[0m             extra_files\u001b[39m.\u001b[39mappend(path)\n\u001b[1;32m   2065\u001b[0m \u001b[39mif\u001b[39;00m jupyter_dash\u001b[39m.\u001b[39mactive:\n\u001b[0;32m-> 2066\u001b[0m     jupyter_dash\u001b[39m.\u001b[39;49mrun_app(\n\u001b[1;32m   2067\u001b[0m         \u001b[39mself\u001b[39;49m,\n\u001b[1;32m   2068\u001b[0m         mode\u001b[39m=\u001b[39;49mjupyter_mode,\n\u001b[1;32m   2069\u001b[0m         width\u001b[39m=\u001b[39;49mjupyter_width,\n\u001b[1;32m   2070\u001b[0m         height\u001b[39m=\u001b[39;49mjupyter_height,\n\u001b[1;32m   2071\u001b[0m         host\u001b[39m=\u001b[39;49mhost,\n\u001b[1;32m   2072\u001b[0m         port\u001b[39m=\u001b[39;49mport,\n\u001b[1;32m   2073\u001b[0m         server_url\u001b[39m=\u001b[39;49mjupyter_server_url,\n\u001b[1;32m   2074\u001b[0m     )\n\u001b[1;32m   2075\u001b[0m \u001b[39melse\u001b[39;00m:\n\u001b[1;32m   2076\u001b[0m     \u001b[39mself\u001b[39m\u001b[39m.\u001b[39mserver\u001b[39m.\u001b[39mrun(host\u001b[39m=\u001b[39mhost, port\u001b[39m=\u001b[39mport, debug\u001b[39m=\u001b[39mdebug, \u001b[39m*\u001b[39m\u001b[39m*\u001b[39mflask_run_options)\n",
      "File \u001b[0;32m~/anaconda3/lib/python3.10/site-packages/dash/_jupyter.py:329\u001b[0m, in \u001b[0;36mJupyterDash.run_app\u001b[0;34m(self, app, mode, width, height, host, port, server_url)\u001b[0m\n\u001b[1;32m    325\u001b[0m     \u001b[39mpass\u001b[39;00m\n\u001b[1;32m    327\u001b[0m err_q \u001b[39m=\u001b[39m queue\u001b[39m.\u001b[39mQueue()\n\u001b[0;32m--> 329\u001b[0m server \u001b[39m=\u001b[39m make_server(host, port, app\u001b[39m.\u001b[39;49mserver, threaded\u001b[39m=\u001b[39;49m\u001b[39mTrue\u001b[39;49;00m, processes\u001b[39m=\u001b[39;49m\u001b[39m0\u001b[39;49m)\n\u001b[1;32m    330\u001b[0m logging\u001b[39m.\u001b[39mgetLogger(\u001b[39m\"\u001b[39m\u001b[39mwerkzeug\u001b[39m\u001b[39m\"\u001b[39m)\u001b[39m.\u001b[39msetLevel(logging\u001b[39m.\u001b[39mERROR)\n\u001b[1;32m    332\u001b[0m \u001b[39m@retry\u001b[39m(\n\u001b[1;32m    333\u001b[0m     stop_max_attempt_number\u001b[39m=\u001b[39m\u001b[39m15\u001b[39m,\n\u001b[1;32m    334\u001b[0m     wait_exponential_multiplier\u001b[39m=\u001b[39m\u001b[39m100\u001b[39m,\n\u001b[1;32m    335\u001b[0m     wait_exponential_max\u001b[39m=\u001b[39m\u001b[39m1000\u001b[39m,\n\u001b[1;32m    336\u001b[0m )\n\u001b[1;32m    337\u001b[0m \u001b[39mdef\u001b[39;00m \u001b[39mrun\u001b[39m():\n",
      "File \u001b[0;32m~/anaconda3/lib/python3.10/site-packages/werkzeug/serving.py:852\u001b[0m, in \u001b[0;36mmake_server\u001b[0;34m(host, port, app, threaded, processes, request_handler, passthrough_errors, ssl_context, fd)\u001b[0m\n\u001b[1;32m    849\u001b[0m     \u001b[39mraise\u001b[39;00m \u001b[39mValueError\u001b[39;00m(\u001b[39m\"\u001b[39m\u001b[39mCannot have a multi-thread and multi-process server.\u001b[39m\u001b[39m\"\u001b[39m)\n\u001b[1;32m    851\u001b[0m \u001b[39mif\u001b[39;00m threaded:\n\u001b[0;32m--> 852\u001b[0m     \u001b[39mreturn\u001b[39;00m ThreadedWSGIServer(\n\u001b[1;32m    853\u001b[0m         host, port, app, request_handler, passthrough_errors, ssl_context, fd\u001b[39m=\u001b[39;49mfd\n\u001b[1;32m    854\u001b[0m     )\n\u001b[1;32m    856\u001b[0m \u001b[39mif\u001b[39;00m processes \u001b[39m>\u001b[39m \u001b[39m1\u001b[39m:\n\u001b[1;32m    857\u001b[0m     \u001b[39mreturn\u001b[39;00m ForkingWSGIServer(\n\u001b[1;32m    858\u001b[0m         host,\n\u001b[1;32m    859\u001b[0m         port,\n\u001b[0;32m   (...)\u001b[0m\n\u001b[1;32m    865\u001b[0m         fd\u001b[39m=\u001b[39mfd,\n\u001b[1;32m    866\u001b[0m     )\n",
      "File \u001b[0;32m~/anaconda3/lib/python3.10/site-packages/werkzeug/serving.py:711\u001b[0m, in \u001b[0;36mBaseWSGIServer.__init__\u001b[0;34m(self, host, port, app, handler, passthrough_errors, ssl_context, fd)\u001b[0m\n\u001b[1;32m    708\u001b[0m \u001b[39mif\u001b[39;00m fd \u001b[39mis\u001b[39;00m \u001b[39mNone\u001b[39;00m:\n\u001b[1;32m    709\u001b[0m     \u001b[39m# No existing socket descriptor, do bind_and_activate=True.\u001b[39;00m\n\u001b[1;32m    710\u001b[0m     \u001b[39mtry\u001b[39;00m:\n\u001b[0;32m--> 711\u001b[0m         \u001b[39mself\u001b[39;49m\u001b[39m.\u001b[39;49mserver_bind()\n\u001b[1;32m    712\u001b[0m         \u001b[39mself\u001b[39m\u001b[39m.\u001b[39mserver_activate()\n\u001b[1;32m    713\u001b[0m     \u001b[39mexcept\u001b[39;00m \u001b[39mBaseException\u001b[39;00m:\n",
      "File \u001b[0;32m~/anaconda3/lib/python3.10/http/server.py:137\u001b[0m, in \u001b[0;36mHTTPServer.server_bind\u001b[0;34m(self)\u001b[0m\n\u001b[1;32m    135\u001b[0m \u001b[39mdef\u001b[39;00m \u001b[39mserver_bind\u001b[39m(\u001b[39mself\u001b[39m):\n\u001b[1;32m    136\u001b[0m \u001b[39m    \u001b[39m\u001b[39m\"\"\"Override server_bind to store the server name.\"\"\"\u001b[39;00m\n\u001b[0;32m--> 137\u001b[0m     socketserver\u001b[39m.\u001b[39;49mTCPServer\u001b[39m.\u001b[39;49mserver_bind(\u001b[39mself\u001b[39;49m)\n\u001b[1;32m    138\u001b[0m     host, port \u001b[39m=\u001b[39m \u001b[39mself\u001b[39m\u001b[39m.\u001b[39mserver_address[:\u001b[39m2\u001b[39m]\n\u001b[1;32m    139\u001b[0m     \u001b[39mself\u001b[39m\u001b[39m.\u001b[39mserver_name \u001b[39m=\u001b[39m socket\u001b[39m.\u001b[39mgetfqdn(host)\n",
      "File \u001b[0;32m~/anaconda3/lib/python3.10/socketserver.py:466\u001b[0m, in \u001b[0;36mTCPServer.server_bind\u001b[0;34m(self)\u001b[0m\n\u001b[1;32m    464\u001b[0m \u001b[39mif\u001b[39;00m \u001b[39mself\u001b[39m\u001b[39m.\u001b[39mallow_reuse_address:\n\u001b[1;32m    465\u001b[0m     \u001b[39mself\u001b[39m\u001b[39m.\u001b[39msocket\u001b[39m.\u001b[39msetsockopt(socket\u001b[39m.\u001b[39mSOL_SOCKET, socket\u001b[39m.\u001b[39mSO_REUSEADDR, \u001b[39m1\u001b[39m)\n\u001b[0;32m--> 466\u001b[0m \u001b[39mself\u001b[39;49m\u001b[39m.\u001b[39;49msocket\u001b[39m.\u001b[39;49mbind(\u001b[39mself\u001b[39;49m\u001b[39m.\u001b[39;49mserver_address)\n\u001b[1;32m    467\u001b[0m \u001b[39mself\u001b[39m\u001b[39m.\u001b[39mserver_address \u001b[39m=\u001b[39m \u001b[39mself\u001b[39m\u001b[39m.\u001b[39msocket\u001b[39m.\u001b[39mgetsockname()\n",
      "\u001b[0;31mOSError\u001b[0m: [Errno 48] Address already in use"
     ]
    }
   ],
   "source": [
    "app.run(jupyter_mode=\"tab\", debug=True, host='localhost')"
   ]
  },
  {
   "cell_type": "code",
   "execution_count": null,
   "id": "f00c2dc3-578a-4fdb-97b9-ebcdfb5efa8c",
   "metadata": {},
   "outputs": [],
   "source": []
  }
 ],
 "metadata": {
  "kernelspec": {
   "display_name": "Python 3 (ipykernel)",
   "language": "python",
   "name": "python3"
  },
  "language_info": {
   "codemirror_mode": {
    "name": "ipython",
    "version": 3
   },
   "file_extension": ".py",
   "mimetype": "text/x-python",
   "name": "python",
   "nbconvert_exporter": "python",
   "pygments_lexer": "ipython3",
   "version": "3.10.9"
  }
 },
 "nbformat": 4,
 "nbformat_minor": 5
}
