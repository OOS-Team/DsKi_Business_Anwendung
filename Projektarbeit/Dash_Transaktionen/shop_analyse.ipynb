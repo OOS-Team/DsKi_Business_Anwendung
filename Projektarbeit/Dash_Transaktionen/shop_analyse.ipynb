{
 "cells": [
  {
   "attachments": {},
   "cell_type": "markdown",
   "metadata": {},
   "source": [
    "# Werbemaßnahmen Analyse\n",
    "### Bibliotheken"
   ]
  },
  {
   "cell_type": "code",
   "execution_count": 207,
   "metadata": {},
   "outputs": [],
   "source": [
    "import pandas as pd\n",
    "import plotly.express as px\n",
    "from dash import Dash, dcc, html, Input, Output"
   ]
  },
  {
   "attachments": {},
   "cell_type": "markdown",
   "metadata": {},
   "source": [
    "### Daten Laden"
   ]
  },
  {
   "cell_type": "code",
   "execution_count": 208,
   "metadata": {},
   "outputs": [],
   "source": [
    "df = pd.read_csv(\"../../data/dunnhumby_BatF_transactions.csv\")"
   ]
  },
  {
   "cell_type": "code",
   "execution_count": 209,
   "metadata": {},
   "outputs": [
    {
     "data": {
      "text/html": [
       "<div>\n",
       "<style scoped>\n",
       "    .dataframe tbody tr th:only-of-type {\n",
       "        vertical-align: middle;\n",
       "    }\n",
       "\n",
       "    .dataframe tbody tr th {\n",
       "        vertical-align: top;\n",
       "    }\n",
       "\n",
       "    .dataframe thead th {\n",
       "        text-align: right;\n",
       "    }\n",
       "</style>\n",
       "<table border=\"1\" class=\"dataframe\">\n",
       "  <thead>\n",
       "    <tr style=\"text-align: right;\">\n",
       "      <th></th>\n",
       "      <th>WEEK_END_DATE</th>\n",
       "      <th>STORE_NUM</th>\n",
       "      <th>UPC</th>\n",
       "      <th>UNITS</th>\n",
       "      <th>VISITS</th>\n",
       "      <th>HHS</th>\n",
       "      <th>SPEND</th>\n",
       "      <th>PRICE</th>\n",
       "      <th>BASE_PRICE</th>\n",
       "      <th>FEATURE</th>\n",
       "      <th>DISPLAY</th>\n",
       "      <th>TPR_ONLY</th>\n",
       "    </tr>\n",
       "  </thead>\n",
       "  <tbody>\n",
       "    <tr>\n",
       "      <th>0</th>\n",
       "      <td>14-Jan-09</td>\n",
       "      <td>367</td>\n",
       "      <td>1111009477</td>\n",
       "      <td>13</td>\n",
       "      <td>13</td>\n",
       "      <td>13</td>\n",
       "      <td>18.07</td>\n",
       "      <td>1.39</td>\n",
       "      <td>1.57</td>\n",
       "      <td>0</td>\n",
       "      <td>0</td>\n",
       "      <td>1</td>\n",
       "    </tr>\n",
       "    <tr>\n",
       "      <th>1</th>\n",
       "      <td>14-Jan-09</td>\n",
       "      <td>367</td>\n",
       "      <td>1111009497</td>\n",
       "      <td>20</td>\n",
       "      <td>18</td>\n",
       "      <td>18</td>\n",
       "      <td>27.80</td>\n",
       "      <td>1.39</td>\n",
       "      <td>1.39</td>\n",
       "      <td>0</td>\n",
       "      <td>0</td>\n",
       "      <td>0</td>\n",
       "    </tr>\n",
       "    <tr>\n",
       "      <th>2</th>\n",
       "      <td>14-Jan-09</td>\n",
       "      <td>367</td>\n",
       "      <td>1111009507</td>\n",
       "      <td>14</td>\n",
       "      <td>14</td>\n",
       "      <td>14</td>\n",
       "      <td>19.32</td>\n",
       "      <td>1.38</td>\n",
       "      <td>1.38</td>\n",
       "      <td>0</td>\n",
       "      <td>0</td>\n",
       "      <td>0</td>\n",
       "    </tr>\n",
       "    <tr>\n",
       "      <th>3</th>\n",
       "      <td>14-Jan-09</td>\n",
       "      <td>367</td>\n",
       "      <td>1111035398</td>\n",
       "      <td>4</td>\n",
       "      <td>3</td>\n",
       "      <td>3</td>\n",
       "      <td>14.00</td>\n",
       "      <td>3.50</td>\n",
       "      <td>4.49</td>\n",
       "      <td>0</td>\n",
       "      <td>0</td>\n",
       "      <td>1</td>\n",
       "    </tr>\n",
       "    <tr>\n",
       "      <th>4</th>\n",
       "      <td>14-Jan-09</td>\n",
       "      <td>367</td>\n",
       "      <td>1111038078</td>\n",
       "      <td>3</td>\n",
       "      <td>3</td>\n",
       "      <td>3</td>\n",
       "      <td>7.50</td>\n",
       "      <td>2.50</td>\n",
       "      <td>2.50</td>\n",
       "      <td>0</td>\n",
       "      <td>0</td>\n",
       "      <td>0</td>\n",
       "    </tr>\n",
       "  </tbody>\n",
       "</table>\n",
       "</div>"
      ],
      "text/plain": [
       "  WEEK_END_DATE  STORE_NUM         UPC  UNITS  VISITS  HHS  SPEND  PRICE  \\\n",
       "0     14-Jan-09        367  1111009477     13      13   13  18.07   1.39   \n",
       "1     14-Jan-09        367  1111009497     20      18   18  27.80   1.39   \n",
       "2     14-Jan-09        367  1111009507     14      14   14  19.32   1.38   \n",
       "3     14-Jan-09        367  1111035398      4       3    3  14.00   3.50   \n",
       "4     14-Jan-09        367  1111038078      3       3    3   7.50   2.50   \n",
       "\n",
       "   BASE_PRICE  FEATURE  DISPLAY  TPR_ONLY  \n",
       "0        1.57        0        0         1  \n",
       "1        1.39        0        0         0  \n",
       "2        1.38        0        0         0  \n",
       "3        4.49        0        0         1  \n",
       "4        2.50        0        0         0  "
      ]
     },
     "execution_count": 209,
     "metadata": {},
     "output_type": "execute_result"
    }
   ],
   "source": [
    "df.head()"
   ]
  },
  {
   "attachments": {},
   "cell_type": "markdown",
   "metadata": {},
   "source": [
    "### Daten formatiere\n",
    "Datum formatieren"
   ]
  },
  {
   "cell_type": "code",
   "execution_count": 210,
   "metadata": {},
   "outputs": [],
   "source": [
    "df['WEEK_END_DATE'] = pd.to_datetime(df['WEEK_END_DATE'], format=\"%d-%b-%y\")"
   ]
  },
  {
   "attachments": {},
   "cell_type": "markdown",
   "metadata": {},
   "source": [
    "Gesamte Spalte für Werbemaßnahmen"
   ]
  },
  {
   "cell_type": "code",
   "execution_count": 211,
   "metadata": {},
   "outputs": [],
   "source": [
    "# Concat advertising columns in numeric representation\n",
    "ad_cols = [\"FEATURE\", \"DISPLAY\", \"TPR_ONLY\"]\n",
    "df['advertising_numeric'] = df[ad_cols].apply(lambda x: ''.join(x.values.astype(str)), axis=1)"
   ]
  },
  {
   "cell_type": "code",
   "execution_count": 212,
   "metadata": {},
   "outputs": [],
   "source": [
    "# Map numeepresentation to a categorical value\n",
    "df['advertising_category'] = df['advertising_numeric'].map({'000': 'None', '001': 'TPR_Only', '010': 'Display', '100': 'Flyer', '110': 'Flyer + Display'})"
   ]
  },
  {
   "cell_type": "code",
   "execution_count": 213,
   "metadata": {},
   "outputs": [],
   "source": [
    "# Währungsumrechnung in Euro deutsches Format\n",
    "def custom_format(number):\n",
    "    if '.' in str(number):\n",
    "        parts = str(number).split('.')\n",
    "        main_part = \"{:,}\".format(int(parts[0])).replace(\",\", \".\")\n",
    "        decimal_part = parts[1]\n",
    "        return main_part + \",\" + decimal_part\n",
    "    else:\n",
    "        return \"{:,}\".format(number).replace(\",\", \".\")"
   ]
  },
  {
   "attachments": {},
   "cell_type": "markdown",
   "metadata": {},
   "source": [
    "### Dashboard"
   ]
  },
  {
   "cell_type": "code",
   "execution_count": 214,
   "metadata": {},
   "outputs": [],
   "source": [
    "import dash_bootstrap_components as dbc\n",
    "\n",
    "app = Dash(__name__, external_stylesheets=[dbc.themes.BOOTSTRAP])\n",
    "\n",
    "\n",
    "# Create a year column for filtering in the UI\n",
    "df['Year'] = df['WEEK_END_DATE'].dt.year\n",
    "\n",
    "# Filter out the 'None' advertising_category entries\n",
    "df_advert_category = df[df['advertising_category'] != 'None']\n",
    "\n",
    "# Define a color map for the advertising categories\n",
    "color_map = {\n",
    "    'None' : '#b2b2b2',\n",
    "    'TPR_Only': '#e28743',\n",
    "    'Flyer': '#1e81b0',\n",
    "    'Display': '#8338ec',\n",
    "    'Flyer + Display' : '#FF006E',\n",
    " }\n",
    "\n",
    "\n",
    "# Calculate the total revenue and units sold per store\n",
    "store_metrics = df.groupby('STORE_NUM').agg({'SPEND': 'sum', 'UNITS': 'sum'}).reset_index()\n",
    "\n",
    "app.layout = dbc.Container([\n",
    "    dbc.Row(dbc.Col(html.H1('Auswirkungen verschiedener Marketingmaßnahmen auf den Umsatz'), width=12)),\n",
    "    dbc.Row(dbc.Col(html.H3('Analyse der Märkte'), width=12)),\n",
    "    dbc.Row([\n",
    "        dbc.Col(dcc.Graph(id='store-scatter-plot'), width=12)\n",
    "    ]),\n",
    "    dbc.Row(dbc.Col(html.Div(id='store-info'), width=12)),\n",
    "    dbc.Row([\n",
    "        dbc.Col(dcc.Dropdown(id='product-dropdown'), width=6),\n",
    "        dbc.Col(dcc.DatePickerRange(id='date-picker-range',\n",
    "                                    start_date=df['WEEK_END_DATE'].min(),\n",
    "                                    end_date=df['WEEK_END_DATE'].max(),\n",
    "                                    display_format='YYYY-MM-DD'), width=6)\n",
    "    ]),\n",
    "    dbc.Row(dbc.Col(dcc.Graph(id='revenue-scatter-plot'), width=12)),\n",
    "    dbc.Row(dbc.Col(html.H3('Analyse der Werbemaßnahmen'), width=12)),\n",
    "    dbc.Row([\n",
    "        dbc.Col(html.Label('Jahr auswählen:'), width=3),\n",
    "        dbc.Col(dcc.RadioItems(id='year-selector',\n",
    "                               options=[{'label': str(year), 'value': year} for year in df_advert_category['Year'].unique()],\n",
    "                               value=df_advert_category['Year'].min()), width=9)\n",
    "    ]),\n",
    "    dbc.Row(dbc.Col(dcc.Graph(id='advertising-measure-distribution'), width=12))\n",
    "], fluid=True)\n",
    "\n",
    "\n",
    "# Callback for the store scatter plot\n",
    "@app.callback(\n",
    "    Output('store-scatter-plot', 'figure'),\n",
    "    Input('product-dropdown', 'value')\n",
    ")\n",
    "def update_store_figure(selected_product):\n",
    "    # Create the scatter plot for stores\n",
    "    fig = px.scatter(\n",
    "        store_metrics,\n",
    "        x='UNITS',\n",
    "        y='SPEND',\n",
    "        hover_name='STORE_NUM',\n",
    "        title='Absatz und Umsatz der Märkte'\n",
    "    )\n",
    "    fig.update_traces(mode='markers', marker=dict(size=12, line=dict(width=2, color='DarkSlateGrey')),\n",
    "                      selector=dict(mode='markers'))\n",
    "    return fig\n",
    "\n",
    "# Callback for the dropdown options and store information\n",
    "@app.callback(\n",
    "    [Output('product-dropdown', 'options'),\n",
    "     Output('product-dropdown', 'value'),\n",
    "     Output('store-info', 'children')],\n",
    "    Input('store-scatter-plot', 'clickData')\n",
    ")\n",
    "def update_dropdown_and_store_info(clickData):\n",
    "    selected_store = clickData['points'][0]['hovertext'] if clickData else store_metrics['STORE_NUM'].iloc[0]\n",
    "    df_selected_store = df[df['STORE_NUM'] == selected_store].copy()\n",
    "    total_revenue_per_product = df_selected_store.groupby('UPC')['SPEND'].sum().reset_index()\n",
    "    top_products = total_revenue_per_product.nlargest(10, 'SPEND')['UPC']\n",
    "    dropdown_options = [{'label': str(product), 'value': product} for product in top_products]\n",
    "    dropdown_value = top_products.iloc[0]\n",
    "    store_total_revenue = df_selected_store['SPEND'].sum()\n",
    "    store_info = [\n",
    "        html.H3(f'Markt {selected_store} mit einem Gesamtumsatz von {round(store_total_revenue, 2)} €'),\n",
    "        html.H4(f'Die 10 umsatzstärksten Produkte von Store {selected_store}')\n",
    "    ]\n",
    "    return dropdown_options, dropdown_value, store_info\n",
    "\n",
    "# Callback for the product bar plot\n",
    "@app.callback(\n",
    "    Output('revenue-scatter-plot', 'figure'),\n",
    "    [Input('product-dropdown', 'value'),\n",
    "     Input('store-scatter-plot', 'clickData'),\n",
    "     Input('date-picker-range', 'start_date'),\n",
    "     Input('date-picker-range', 'end_date')]\n",
    ")\n",
    "def update_product_figure(selected_product, clickData, start_date, end_date):\n",
    "    selected_store = clickData['points'][0]['hovertext'] if clickData else store_metrics['STORE_NUM'].iloc[0]\n",
    "    df_selected_time = df[(df['WEEK_END_DATE'] >= pd.to_datetime(start_date)) & \n",
    "                          (df['WEEK_END_DATE'] <= pd.to_datetime(end_date))].copy()\n",
    "    df_selected_store = df_selected_time[df_selected_time['STORE_NUM'] == selected_store]\n",
    "    df_selected_product = df_selected_store[df_selected_store['UPC'] == selected_product]\n",
    "    fig = px.bar(\n",
    "        df_selected_product,\n",
    "        x='WEEK_END_DATE',\n",
    "        y='SPEND',\n",
    "        color='advertising_category',\n",
    "        title=f'Produkt : {selected_product} aus dem Markt {selected_store}',\n",
    "        color_discrete_map=color_map\n",
    "    )\n",
    "    fig.update_traces(mode='markers', marker=dict(size=10, line=dict(width=2, color='DarkSlateGrey')),\n",
    "                      selector=dict(mode='markers'))\n",
    "    return fig\n",
    "# Callback for the advertising measure distribution bar chart\n",
    "@app.callback(\n",
    "    Output('advertising-measure-distribution', 'figure'),\n",
    "    [Input('store-scatter-plot', 'clickData'),\n",
    "     Input('year-selector', 'value')]\n",
    ")\n",
    "def update_advertising_measure_distribution(clickData, selected_year):\n",
    "    selected_store = clickData['points'][0]['hovertext'] if clickData else store_metrics['STORE_NUM'].iloc[0]\n",
    "    \n",
    "    # Work with a copy to avoid SettingWithCopyWarning\n",
    "    df_selected_store = df_advert_category[(df_advert_category['STORE_NUM'] == selected_store) & \n",
    "                                           (df_advert_category['Year'] == selected_year)].copy()\n",
    "    \n",
    "    # Create quantiles\n",
    "    df_selected_store['Umsatz'] = pd.qcut(df_selected_store['SPEND'], 4, \n",
    "                                          labels=['Quantil 1', 'Quantil 2', 'Quantil 3', 'Quantil 4'])\n",
    "    \n",
    "    # Calculate count and percentage\n",
    "    ad_measure_counts = df_selected_store.groupby(['Umsatz', 'advertising_category'], group_keys=True)['UPC'].count().reset_index()\n",
    "    ad_measure_counts['Anteil_am_Umsatz'] = ad_measure_counts.groupby('Umsatz')['UPC'].apply(\n",
    "        lambda x: x / float(x.sum()) * 100\n",
    "    ).reset_index(drop=True)\n",
    "\n",
    "    # Create bar chart\n",
    "    fig = px.bar(\n",
    "        ad_measure_counts,\n",
    "        x='Umsatz',\n",
    "        y='Anteil_am_Umsatz',\n",
    "        color='advertising_category',\n",
    "        barmode='group',\n",
    "        color_discrete_map=color_map,\n",
    "        title=f'Verteilung der Werbemaßnahmen pro Umsatz Quantil der Produkte aus dem Markt {selected_store}.'\n",
    "    )\n",
    "    return fig\n"
   ]
  },
  {
   "attachments": {},
   "cell_type": "markdown",
   "metadata": {},
   "source": [
    "Verbesserungen: Produkt Vergleich in Jahre aufteilen und übereinander lagern"
   ]
  },
  {
   "attachments": {},
   "cell_type": "markdown",
   "metadata": {},
   "source": [
    "Weitere Idee Darstellung der Verteilung der Werbemaßnahmen von Produktquantilen je Store\n",
    "- Auswahl nach Jahren mit Checkbox oder Dropdown\n",
    "- Ich würde beim zweiten Plot eher Bars verwenden anstatt des Scatters, so lässt sich das optisch besser zeitlich zuordnen\n",
    "- Evlt. Checkboxen für Werbemaßnahmen -> [x]None, [x]Flyer + Display, []Display, []TPR_only, [x]Flyer\n",
    "- Als weiteren Plot vllt. dann für ein Produkt schauen in welchem Zeitraum/Monat viel verkauft wurde oder gekauft wird\n",
    "    - Man könnte den aktuellen Scatterplot in die Jahre 2009, 2010 und 2011(2012) einteilen und dann mit deinen vorgeschlagenen Checkboxen oder Dropdown das jeweilige Jahr auswählen, wodurch sich\n",
    "        die Jahre überlagern und gut vergleichen lassen"
   ]
  },
  {
   "cell_type": "code",
   "execution_count": 215,
   "metadata": {},
   "outputs": [
    {
     "name": "stdout",
     "output_type": "stream",
     "text": [
      "Dash app running on http://127.0.0.1:8081/\n"
     ]
    },
    {
     "data": {
      "application/javascript": "window.open('http://127.0.0.1:8081/')",
      "text/plain": [
       "<IPython.core.display.Javascript object>"
      ]
     },
     "metadata": {},
     "output_type": "display_data"
    }
   ],
   "source": [
    "app.run(jupyter_mode=\"tab\", debug=True, host='127.0.0.1', port='8081')"
   ]
  },
  {
   "cell_type": "code",
   "execution_count": 216,
   "metadata": {},
   "outputs": [
    {
     "name": "stderr",
     "output_type": "stream",
     "text": [
      "/var/folders/vr/klm94mws7lsd0vj7h5gd2bqw0000gn/T/ipykernel_36095/3125541816.py:134: FutureWarning:\n",
      "\n",
      "Not prepending group keys to the result index of transform-like apply. In the future, the group keys will be included in the index, regardless of whether the applied function returns a like-indexed object.\n",
      "To preserve the previous behavior, use\n",
      "\n",
      "\t>>> .groupby(..., group_keys=False)\n",
      "\n",
      "To adopt the future behavior and silence this warning, use \n",
      "\n",
      "\t>>> .groupby(..., group_keys=True)\n",
      "\n",
      "/var/folders/vr/klm94mws7lsd0vj7h5gd2bqw0000gn/T/ipykernel_36095/3125541816.py:134: FutureWarning:\n",
      "\n",
      "Not prepending group keys to the result index of transform-like apply. In the future, the group keys will be included in the index, regardless of whether the applied function returns a like-indexed object.\n",
      "To preserve the previous behavior, use\n",
      "\n",
      "\t>>> .groupby(..., group_keys=False)\n",
      "\n",
      "To adopt the future behavior and silence this warning, use \n",
      "\n",
      "\t>>> .groupby(..., group_keys=True)\n",
      "\n"
     ]
    }
   ],
   "source": [
    "# print(pd.__version__)"
   ]
  },
  {
   "cell_type": "code",
   "execution_count": null,
   "metadata": {},
   "outputs": [],
   "source": []
  }
 ],
 "metadata": {
  "kernelspec": {
   "display_name": "base",
   "language": "python",
   "name": "python3"
  },
  "language_info": {
   "codemirror_mode": {
    "name": "ipython",
    "version": 3
   },
   "file_extension": ".py",
   "mimetype": "text/x-python",
   "name": "python",
   "nbconvert_exporter": "python",
   "pygments_lexer": "ipython3",
   "version": "3.10.9"
  },
  "orig_nbformat": 4
 },
 "nbformat": 4,
 "nbformat_minor": 2
}
