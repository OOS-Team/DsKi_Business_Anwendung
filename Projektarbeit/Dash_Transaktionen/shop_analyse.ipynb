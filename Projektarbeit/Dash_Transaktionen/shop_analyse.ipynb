{
 "cells": [
  {
   "cell_type": "code",
   "execution_count": 3,
   "metadata": {},
   "outputs": [],
   "source": [
    "import pandas as pd\n",
    "import dash\n",
    "from dash import dcc, html, Input, Output\n",
    "import plotly.express as px"
   ]
  },
  {
   "cell_type": "code",
   "execution_count": 4,
   "metadata": {},
   "outputs": [],
   "source": [
    "df = pd.read_csv(\"../../data/dunnhumby_BatF_transactions.csv\")"
   ]
  },
  {
   "cell_type": "code",
   "execution_count": 9,
   "metadata": {},
   "outputs": [],
   "source": [
    "\n",
    "# Einfache Bereinigung und Datentyp-Konvertierung\n",
    "df['WEEK_END_DATE'] = pd.to_datetime(df['WEEK_END_DATE'])\n",
    "\n",
    "# Berechnung der Quantile für 'SPEND' innerhalb jeder 'STORE_NUM'\n",
    "df['Umsatz_Quantil'] = df.groupby('STORE_NUM')['SPEND'].transform(\n",
    "    lambda x: pd.qcut(x, 4, labels=['Q1', 'Q2', 'Q3', 'Q4'])\n",
    ")\n",
    "\n",
    "# Einen Dash-App-Server einrichten\n",
    "app = dash.Dash(__name__)\n",
    "\n",
    "# Dash-Layout\n",
    "app.layout = html.Div([\n",
    "    html.H1(\"Produktumsatz-Dashboard\"),\n",
    "    dcc.Dropdown(\n",
    "        id='product-dropdown',\n",
    "        options=[{'label': i, 'value': i} for i in df['UPC'].unique()],\n",
    "        value=df['UPC'].unique()[0]  # Erstes Produkt als Standardwert\n",
    "    ),\n",
    "    dcc.Graph(id='revenue-time-series-graph'),\n",
    "    dcc.Dropdown(\n",
    "        id='quantile-dropdown',\n",
    "        options=[{'label': q, 'value': q} for q in ['Q1', 'Q2', 'Q3', 'Q4']],\n",
    "        value='Q1'  # Erstes Quantil als Standardwert\n",
    "    ),\n",
    "    dcc.Graph(id='marketing-impact-graph'),\n",
    "])\n",
    "\n",
    "# Callbacks für interaktive Inhalte\n",
    "@app.callback(\n",
    "    Output('revenue-time-series-graph', 'figure'),\n",
    "    [Input('product-dropdown', 'value')]\n",
    ")\n",
    "def update_time_series(selected_product):\n",
    "    # Daten für das ausgewählte Produkt filtern\n",
    "    filtered_df = df[df['UPC'] == selected_product]\n",
    "    \n",
    "    # Umsatz-Zeitreihendiagramm erstellen\n",
    "    fig = px.line(filtered_df, x='WEEK_END_DATE', y='SPEND', title='Umsatz über die Zeit')\n",
    "    return fig\n",
    "\n",
    "@app.callback(\n",
    "    Output('marketing-impact-graph', 'figure'),\n",
    "    [Input('product-dropdown', 'value'),\n",
    "     Input('quantile-dropdown', 'value')]\n",
    ")\n",
    "def update_marketing_impact(selected_product, selected_quantile):\n",
    "    # Daten für das ausgewählte Produkt und Quantil filtern\n",
    "    filtered_df = df[(df['UPC'] == selected_product) & (df['Umsatz_Quantil'] == selected_quantile)]\n",
    "    \n",
    "    # Berechnen des medianen Umsatzes ohne und mit Werbemaßnahmen\n",
    "    median_spend_no_ad = filtered_df[filtered_df['FEATURE'] == 0]['SPEND'].median()\n",
    "    median_spend_with_ad = filtered_df[filtered_df['FEATURE'] == 1]['SPEND'].median()\n",
    "    \n",
    "    # Bar-Graphen für den Vergleich der medianen Umsätze erstellen\n",
    "    fig = px.bar(\n",
    "        x=['Ohne Werbung', 'Mit Werbung'],\n",
    "        y=[median_spend_no_ad, median_spend_with_ad],\n",
    "        title='Impact der Werbemaßnahme auf den Umsatz'\n",
    "    )\n",
    "    return fig"
   ]
  },
  {
   "cell_type": "code",
   "execution_count": 10,
   "metadata": {},
   "outputs": [
    {
     "name": "stdout",
     "output_type": "stream",
     "text": [
      "Dash app running on http://127.0.0.1:8081/\n"
     ]
    },
    {
     "data": {
      "application/javascript": "window.open('http://127.0.0.1:8081/')",
      "text/plain": [
       "<IPython.core.display.Javascript object>"
      ]
     },
     "metadata": {},
     "output_type": "display_data"
    }
   ],
   "source": [
    "app.run(jupyter_mode=\"tab\", debug=True, host='127.0.0.1', port='8081')"
   ]
  },
  {
   "cell_type": "code",
   "execution_count": null,
   "metadata": {},
   "outputs": [],
   "source": []
  }
 ],
 "metadata": {
  "kernelspec": {
   "display_name": "base",
   "language": "python",
   "name": "python3"
  },
  "language_info": {
   "codemirror_mode": {
    "name": "ipython",
    "version": 3
   },
   "file_extension": ".py",
   "mimetype": "text/x-python",
   "name": "python",
   "nbconvert_exporter": "python",
   "pygments_lexer": "ipython3",
   "version": "3.10.9"
  },
  "orig_nbformat": 4
 },
 "nbformat": 4,
 "nbformat_minor": 2
}
