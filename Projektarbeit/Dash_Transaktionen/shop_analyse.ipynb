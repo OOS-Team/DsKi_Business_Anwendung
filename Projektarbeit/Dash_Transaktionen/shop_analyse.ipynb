{
 "cells": [
  {
   "attachments": {},
   "cell_type": "markdown",
   "metadata": {},
   "source": [
    "# Werbemaßnahmen Analyse\n",
    "### Bibliotheken"
   ]
  },
  {
   "cell_type": "code",
   "execution_count": 1,
   "metadata": {},
   "outputs": [
    {
     "name": "stderr",
     "output_type": "stream",
     "text": [
      "c:\\Users\\wuensche\\Anaconda3\\lib\\site-packages\\scipy\\__init__.py:155: UserWarning: A NumPy version >=1.18.5 and <1.25.0 is required for this version of SciPy (detected version 1.26.0\n",
      "  warnings.warn(f\"A NumPy version >={np_minversion} and <{np_maxversion}\"\n"
     ]
    }
   ],
   "source": [
    "import pandas as pd\n",
    "import dash\n",
    "from dash import dcc, html, Input, Output\n",
    "import plotly.express as px"
   ]
  },
  {
   "attachments": {},
   "cell_type": "markdown",
   "metadata": {},
   "source": [
    "### Daten Laden"
   ]
  },
  {
   "cell_type": "code",
   "execution_count": 67,
   "metadata": {},
   "outputs": [],
   "source": [
    "df = pd.read_csv(\"../../data/dunnhumby_BatF_transactions.csv\")"
   ]
  },
  {
   "cell_type": "code",
   "execution_count": 75,
   "metadata": {},
   "outputs": [
    {
     "data": {
      "text/html": [
       "<div>\n",
       "<style scoped>\n",
       "    .dataframe tbody tr th:only-of-type {\n",
       "        vertical-align: middle;\n",
       "    }\n",
       "\n",
       "    .dataframe tbody tr th {\n",
       "        vertical-align: top;\n",
       "    }\n",
       "\n",
       "    .dataframe thead th {\n",
       "        text-align: right;\n",
       "    }\n",
       "</style>\n",
       "<table border=\"1\" class=\"dataframe\">\n",
       "  <thead>\n",
       "    <tr style=\"text-align: right;\">\n",
       "      <th></th>\n",
       "      <th>WEEK_END_DATE</th>\n",
       "      <th>STORE_NUM</th>\n",
       "      <th>UPC</th>\n",
       "      <th>UNITS</th>\n",
       "      <th>VISITS</th>\n",
       "      <th>HHS</th>\n",
       "      <th>SPEND</th>\n",
       "      <th>PRICE</th>\n",
       "      <th>BASE_PRICE</th>\n",
       "      <th>FEATURE</th>\n",
       "      <th>DISPLAY</th>\n",
       "      <th>TPR_ONLY</th>\n",
       "      <th>advertising_numeric</th>\n",
       "      <th>advertising_category</th>\n",
       "    </tr>\n",
       "  </thead>\n",
       "  <tbody>\n",
       "    <tr>\n",
       "      <th>0</th>\n",
       "      <td>2009-01-14</td>\n",
       "      <td>367</td>\n",
       "      <td>1111009477</td>\n",
       "      <td>13</td>\n",
       "      <td>13</td>\n",
       "      <td>13</td>\n",
       "      <td>18.07</td>\n",
       "      <td>1.39</td>\n",
       "      <td>1.57</td>\n",
       "      <td>0</td>\n",
       "      <td>0</td>\n",
       "      <td>1</td>\n",
       "      <td>001</td>\n",
       "      <td>TPR_Only</td>\n",
       "    </tr>\n",
       "    <tr>\n",
       "      <th>1</th>\n",
       "      <td>2009-01-14</td>\n",
       "      <td>367</td>\n",
       "      <td>1111009497</td>\n",
       "      <td>20</td>\n",
       "      <td>18</td>\n",
       "      <td>18</td>\n",
       "      <td>27.80</td>\n",
       "      <td>1.39</td>\n",
       "      <td>1.39</td>\n",
       "      <td>0</td>\n",
       "      <td>0</td>\n",
       "      <td>0</td>\n",
       "      <td>000</td>\n",
       "      <td>None</td>\n",
       "    </tr>\n",
       "    <tr>\n",
       "      <th>2</th>\n",
       "      <td>2009-01-14</td>\n",
       "      <td>367</td>\n",
       "      <td>1111009507</td>\n",
       "      <td>14</td>\n",
       "      <td>14</td>\n",
       "      <td>14</td>\n",
       "      <td>19.32</td>\n",
       "      <td>1.38</td>\n",
       "      <td>1.38</td>\n",
       "      <td>0</td>\n",
       "      <td>0</td>\n",
       "      <td>0</td>\n",
       "      <td>000</td>\n",
       "      <td>None</td>\n",
       "    </tr>\n",
       "    <tr>\n",
       "      <th>3</th>\n",
       "      <td>2009-01-14</td>\n",
       "      <td>367</td>\n",
       "      <td>1111035398</td>\n",
       "      <td>4</td>\n",
       "      <td>3</td>\n",
       "      <td>3</td>\n",
       "      <td>14.00</td>\n",
       "      <td>3.50</td>\n",
       "      <td>4.49</td>\n",
       "      <td>0</td>\n",
       "      <td>0</td>\n",
       "      <td>1</td>\n",
       "      <td>001</td>\n",
       "      <td>TPR_Only</td>\n",
       "    </tr>\n",
       "    <tr>\n",
       "      <th>4</th>\n",
       "      <td>2009-01-14</td>\n",
       "      <td>367</td>\n",
       "      <td>1111038078</td>\n",
       "      <td>3</td>\n",
       "      <td>3</td>\n",
       "      <td>3</td>\n",
       "      <td>7.50</td>\n",
       "      <td>2.50</td>\n",
       "      <td>2.50</td>\n",
       "      <td>0</td>\n",
       "      <td>0</td>\n",
       "      <td>0</td>\n",
       "      <td>000</td>\n",
       "      <td>None</td>\n",
       "    </tr>\n",
       "  </tbody>\n",
       "</table>\n",
       "</div>"
      ],
      "text/plain": [
       "  WEEK_END_DATE  STORE_NUM         UPC  UNITS  VISITS  HHS  SPEND  PRICE  \\\n",
       "0    2009-01-14        367  1111009477     13      13   13  18.07   1.39   \n",
       "1    2009-01-14        367  1111009497     20      18   18  27.80   1.39   \n",
       "2    2009-01-14        367  1111009507     14      14   14  19.32   1.38   \n",
       "3    2009-01-14        367  1111035398      4       3    3  14.00   3.50   \n",
       "4    2009-01-14        367  1111038078      3       3    3   7.50   2.50   \n",
       "\n",
       "   BASE_PRICE  FEATURE  DISPLAY  TPR_ONLY advertising_numeric  \\\n",
       "0        1.57        0        0         1                 001   \n",
       "1        1.39        0        0         0                 000   \n",
       "2        1.38        0        0         0                 000   \n",
       "3        4.49        0        0         1                 001   \n",
       "4        2.50        0        0         0                 000   \n",
       "\n",
       "  advertising_category  \n",
       "0             TPR_Only  \n",
       "1                 None  \n",
       "2                 None  \n",
       "3             TPR_Only  \n",
       "4                 None  "
      ]
     },
     "execution_count": 75,
     "metadata": {},
     "output_type": "execute_result"
    }
   ],
   "source": [
    "df.head()"
   ]
  },
  {
   "attachments": {},
   "cell_type": "markdown",
   "metadata": {},
   "source": [
    "Das Datum formatieren"
   ]
  },
  {
   "cell_type": "code",
   "execution_count": 68,
   "metadata": {},
   "outputs": [],
   "source": [
    "df['WEEK_END_DATE'] = pd.to_datetime(df['WEEK_END_DATE'], format=\"%d-%b-%y\")"
   ]
  },
  {
   "attachments": {},
   "cell_type": "markdown",
   "metadata": {},
   "source": [
    "### Gesamte Spalte für Werbemaßnahmen"
   ]
  },
  {
   "cell_type": "code",
   "execution_count": 69,
   "metadata": {},
   "outputs": [],
   "source": [
    "# Concat advertising columns in numeric representation\n",
    "ad_cols = [\"FEATURE\", \"DISPLAY\", \"TPR_ONLY\"]\n",
    "df['advertising_numeric'] = df[ad_cols].apply(lambda x: ''.join(x.values.astype(str)), axis=1)"
   ]
  },
  {
   "cell_type": "code",
   "execution_count": 70,
   "metadata": {},
   "outputs": [],
   "source": [
    "# Map numeepresentation to a categorical value\n",
    "df['advertising_category'] = df['advertising_numeric'].map({'000': 'None', '001': 'TPR_Only', '010': 'Display', '100': 'Flyer', '110': 'Flyer + Display'})"
   ]
  },
  {
   "cell_type": "code",
   "execution_count": 83,
   "metadata": {},
   "outputs": [],
   "source": [
    "import pandas as pd\n",
    "import plotly.express as px\n",
    "from dash import Dash, dcc, html, Input, Output, State\n",
    "\n",
    "app = Dash(__name__)\n",
    "\n",
    "# Calculate the total revenue and units sold per store\n",
    "store_metrics = df.groupby('STORE_NUM').agg({'SPEND': 'sum', 'UNITS': 'sum'}).reset_index()\n",
    "\n",
    "# Define the app layout\n",
    "app.layout = html.Div([\n",
    "    html.H1('Werbemaßnahmen Analyse'),\n",
    "    dcc.Graph(id='store-scatter-plot'),\n",
    "    html.Div(id='store-info', children=[\n",
    "        html.H2('Store Info wird geladen...'),\n",
    "        html.H4('Die 10 umsatzstärksten Produkte werden geladen...')\n",
    "    ]),\n",
    "    dcc.Dropdown(\n",
    "        id='product-dropdown'\n",
    "    ),\n",
    "    dcc.DatePickerRange(\n",
    "        id='date-picker-range',\n",
    "        start_date=df['WEEK_END_DATE'].min().date(),\n",
    "        end_date=df['WEEK_END_DATE'].max().date(),\n",
    "        display_format='YYYY-MM-DD',\n",
    "        style={'margin-top': 20},\n",
    "    ),\n",
    "    dcc.Graph(id='revenue-scatter-plot'),\n",
    "])\n",
    "\n",
    "# Define the callback to update the store scatter plot\n",
    "@app.callback(\n",
    "    Output('store-scatter-plot', 'figure'),\n",
    "    Input('product-dropdown', 'value')\n",
    ")\n",
    "def update_store_figure(selected_product):\n",
    "    # Create the scatter plot for stores\n",
    "    fig = px.scatter(\n",
    "        store_metrics,\n",
    "        x='SPEND',\n",
    "        y='UNITS',\n",
    "        hover_name='STORE_NUM',  # Assuming STORE_NUM is unique and can be used as hover info\n",
    "        title='Absatz und Umsatz der Märkte'\n",
    "    )\n",
    "    fig.update_traces(mode='markers', marker=dict(size=12, line=dict(width=2, color='DarkSlateGrey')),\n",
    "                      selector=dict(mode='markers'))\n",
    "    return fig\n",
    "\n",
    "# Define the callback to update the dropdown options and store information based on the selected store\n",
    "@app.callback(\n",
    "    [Output('product-dropdown', 'options'),\n",
    "     Output('product-dropdown', 'value'),\n",
    "     Output('store-info', 'children')],\n",
    "    Input('store-scatter-plot', 'clickData')\n",
    ")\n",
    "def update_dropdown_and_store_info(clickData):\n",
    "    if clickData is not None:\n",
    "        selected_store = clickData['points'][0]['hovertext']\n",
    "    else:\n",
    "        # If no store is clicked, default to the store with the highest revenue\n",
    "        selected_store = store_metrics.loc[store_metrics['SPEND'].idxmax(), 'STORE_NUM']\n",
    "    \n",
    "    # Filter the dataset for the selected store\n",
    "    df_selected_store = df[df['STORE_NUM'] == selected_store]\n",
    "    \n",
    "    # Calculate the total revenue per product within the selected store\n",
    "    total_revenue_per_product = df_selected_store.groupby('UPC')['SPEND'].sum().reset_index()\n",
    "    \n",
    "    # Get the top 10 products with the highest revenue\n",
    "    top_products = total_revenue_per_product.nlargest(10, 'SPEND')['UPC']\n",
    "    \n",
    "    # Update dropdown options\n",
    "    dropdown_options = [{'label': str(product), 'value': product} for product in top_products]\n",
    "    dropdown_value = top_products.iloc[0]\n",
    "    \n",
    "    # Update store information\n",
    "    store_total_revenue = df_selected_store['SPEND'].sum()\n",
    "    store_info = [\n",
    "        html.H2(f'Store {selected_store} mit einem Gesamtumsatz von {round(store_total_revenue, 2)} Euro'),\n",
    "        html.H4(f'Die 10 umsatzstärksten Produkte von Store {selected_store}')\n",
    "    ]\n",
    "    \n",
    "    return dropdown_options, dropdown_value, store_info\n",
    "\n",
    "# Define the callback to update the product scatter plot based on the selected store and product\n",
    "@app.callback(\n",
    "    Output('revenue-scatter-plot', 'figure'),\n",
    "    [Input('product-dropdown', 'value'),\n",
    "     Input('store-scatter-plot', 'clickData'),\n",
    "     Input('date-picker-range', 'start_date'),\n",
    "     Input('date-picker-range', 'end_date')\n",
    "    ]\n",
    ")\n",
    "def update_product_figure(selected_product, clickData, start_date, end_date):\n",
    "    if clickData is not None:\n",
    "        selected_store = clickData['points'][0]['hovertext']\n",
    "    else:\n",
    "        selected_store = store_metrics.loc[store_metrics['SPEND'].idxmax(), 'STORE_NUM']\n",
    "\n",
    "    # Filter the dataset for the selected store and product\n",
    "    df_selected_time = df[(df['WEEK_END_DATE'] >= pd.to_datetime(start_date, format=\"%Y-%m-%d\")) & (df['WEEK_END_DATE'] <= pd.to_datetime(end_date, format=\"%Y-%m-%d\"))]\n",
    "    df_selected_store = df_selected_time[(df_selected_time['STORE_NUM'] == selected_store)]\n",
    "    df_selected_product = df_selected_store[df_selected_store['UPC'] == selected_product]\n",
    "\n",
    "    # Create the scatter plot\n",
    "    fig = px.scatter(\n",
    "        df_selected_product,\n",
    "        x='WEEK_END_DATE',\n",
    "        y='SPEND',\n",
    "        color='advertising_category',  # Assumes this column contains the advertising measures\n",
    "        color_discrete_sequence=px.colors.qualitative.Bold,  # Uses a predefined color sequence\n",
    "        title=f'Produkt :{selected_product} aus dem Markt {selected_store}'\n",
    "    )\n",
    "    fig.update_traces(mode='markers', marker=dict(size=10, line=dict(width=2, color='DarkSlateGrey')),\n",
    "                      selector=dict(mode='markers'))\n",
    "    return fig\n"
   ]
  },
  {
   "attachments": {},
   "cell_type": "markdown",
   "metadata": {},
   "source": [
    "Weitere Idee Darstellung der Verteilung der Werbemaßnahmen von Produktquantilen je Store\n",
    "- Auswahl nach Jahren mit Checkbox oder Dropdown\n",
    "- Ich würde beim zweiten Plot eher Bars verwenden anstatt des Scatters, so lässt sich das optisch besser zeitlich zuordnen\n",
    "- Evlt. Checkboxen für Werbemaßnahmen -> [x]None, [x]Flyer + Display, []Display, []TPR_only, [x]Flyer\n",
    "- Als weiteren Plot vllt. dann für ein Produkt schauen in welchem Zeitraum/Monat viel verkauft wurde oder gekauft wird\n",
    "    - Man könnte den aktuellen Scatterplot in die Jahre 2009, 2010 und 2011(2012) einteilen und dann mit deinen vorgeschlagenen Checkboxen oder Dropdown das jeweilige Jahr auswählen, wodurch sich\n",
    "        die Jahre überlagern und gut vergleichen lassen"
   ]
  },
  {
   "cell_type": "code",
   "execution_count": null,
   "metadata": {},
   "outputs": [
    {
     "name": "stdout",
     "output_type": "stream",
     "text": [
      "Dash app running on http://127.0.0.1:8081/\n"
     ]
    },
    {
     "data": {
      "application/javascript": "window.open('http://127.0.0.1:8081/')",
      "text/plain": [
       "<IPython.core.display.Javascript object>"
      ]
     },
     "metadata": {},
     "output_type": "display_data"
    },
    {
     "name": "stdout",
     "output_type": "stream",
     "text": [
      "(524950, 14)\n"
     ]
    },
    {
     "name": "stderr",
     "output_type": "stream",
     "text": [
      "c:\\Users\\wuensche\\Anaconda3\\lib\\site-packages\\_plotly_utils\\basevalidators.py:106: FutureWarning:\n",
      "\n",
      "The behavior of DatetimeProperties.to_pydatetime is deprecated, in a future version this will return a Series containing python datetime objects instead of an ndarray. To retain the old behavior, call `np.array` on the result\n",
      "\n"
     ]
    },
    {
     "name": "stdout",
     "output_type": "stream",
     "text": [
      "(524950, 14)\n"
     ]
    },
    {
     "name": "stderr",
     "output_type": "stream",
     "text": [
      "c:\\Users\\wuensche\\Anaconda3\\lib\\site-packages\\_plotly_utils\\basevalidators.py:106: FutureWarning:\n",
      "\n",
      "The behavior of DatetimeProperties.to_pydatetime is deprecated, in a future version this will return a Series containing python datetime objects instead of an ndarray. To retain the old behavior, call `np.array` on the result\n",
      "\n"
     ]
    },
    {
     "name": "stdout",
     "output_type": "stream",
     "text": [
      "(9422, 14)\n"
     ]
    },
    {
     "name": "stderr",
     "output_type": "stream",
     "text": [
      "c:\\Users\\wuensche\\Anaconda3\\lib\\site-packages\\_plotly_utils\\basevalidators.py:106: FutureWarning:\n",
      "\n",
      "The behavior of DatetimeProperties.to_pydatetime is deprecated, in a future version this will return a Series containing python datetime objects instead of an ndarray. To retain the old behavior, call `np.array` on the result\n",
      "\n"
     ]
    },
    {
     "name": "stdout",
     "output_type": "stream",
     "text": [
      "(164274, 14)\n"
     ]
    },
    {
     "name": "stderr",
     "output_type": "stream",
     "text": [
      "c:\\Users\\wuensche\\Anaconda3\\lib\\site-packages\\_plotly_utils\\basevalidators.py:106: FutureWarning:\n",
      "\n",
      "The behavior of DatetimeProperties.to_pydatetime is deprecated, in a future version this will return a Series containing python datetime objects instead of an ndarray. To retain the old behavior, call `np.array` on the result\n",
      "\n"
     ]
    },
    {
     "name": "stdout",
     "output_type": "stream",
     "text": [
      "(524950, 14)\n"
     ]
    },
    {
     "name": "stderr",
     "output_type": "stream",
     "text": [
      "c:\\Users\\wuensche\\Anaconda3\\lib\\site-packages\\_plotly_utils\\basevalidators.py:106: FutureWarning:\n",
      "\n",
      "The behavior of DatetimeProperties.to_pydatetime is deprecated, in a future version this will return a Series containing python datetime objects instead of an ndarray. To retain the old behavior, call `np.array` on the result\n",
      "\n"
     ]
    },
    {
     "name": "stdout",
     "output_type": "stream",
     "text": [
      "(524950, 14)\n"
     ]
    },
    {
     "name": "stderr",
     "output_type": "stream",
     "text": [
      "c:\\Users\\wuensche\\Anaconda3\\lib\\site-packages\\_plotly_utils\\basevalidators.py:106: FutureWarning:\n",
      "\n",
      "The behavior of DatetimeProperties.to_pydatetime is deprecated, in a future version this will return a Series containing python datetime objects instead of an ndarray. To retain the old behavior, call `np.array` on the result\n",
      "\n"
     ]
    },
    {
     "name": "stdout",
     "output_type": "stream",
     "text": [
      "(524950, 14)\n"
     ]
    },
    {
     "name": "stderr",
     "output_type": "stream",
     "text": [
      "c:\\Users\\wuensche\\Anaconda3\\lib\\site-packages\\_plotly_utils\\basevalidators.py:106: FutureWarning:\n",
      "\n",
      "The behavior of DatetimeProperties.to_pydatetime is deprecated, in a future version this will return a Series containing python datetime objects instead of an ndarray. To retain the old behavior, call `np.array` on the result\n",
      "\n"
     ]
    },
    {
     "name": "stdout",
     "output_type": "stream",
     "text": [
      "(524950, 14)\n"
     ]
    },
    {
     "name": "stderr",
     "output_type": "stream",
     "text": [
      "c:\\Users\\wuensche\\Anaconda3\\lib\\site-packages\\_plotly_utils\\basevalidators.py:106: FutureWarning:\n",
      "\n",
      "The behavior of DatetimeProperties.to_pydatetime is deprecated, in a future version this will return a Series containing python datetime objects instead of an ndarray. To retain the old behavior, call `np.array` on the result\n",
      "\n"
     ]
    },
    {
     "name": "stdout",
     "output_type": "stream",
     "text": [
      "(524950, 14)\n"
     ]
    },
    {
     "name": "stderr",
     "output_type": "stream",
     "text": [
      "c:\\Users\\wuensche\\Anaconda3\\lib\\site-packages\\_plotly_utils\\basevalidators.py:106: FutureWarning:\n",
      "\n",
      "The behavior of DatetimeProperties.to_pydatetime is deprecated, in a future version this will return a Series containing python datetime objects instead of an ndarray. To retain the old behavior, call `np.array` on the result\n",
      "\n"
     ]
    }
   ],
   "source": [
    "app.run(jupyter_mode=\"tab\", debug=True, host='127.0.0.1', port='8081')"
   ]
  },
  {
   "cell_type": "code",
   "execution_count": null,
   "metadata": {},
   "outputs": [],
   "source": []
  }
 ],
 "metadata": {
  "kernelspec": {
   "display_name": "base",
   "language": "python",
   "name": "python3"
  },
  "language_info": {
   "codemirror_mode": {
    "name": "ipython",
    "version": 3
   },
   "file_extension": ".py",
   "mimetype": "text/x-python",
   "name": "python",
   "nbconvert_exporter": "python",
   "pygments_lexer": "ipython3",
   "version": "3.9.13"
  },
  "orig_nbformat": 4
 },
 "nbformat": 4,
 "nbformat_minor": 2
}
