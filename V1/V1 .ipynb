{
 "cells": [
  {
   "cell_type": "markdown",
   "id": "3d7e2926-8809-4fc0-8f66-d0682f57d399",
   "metadata": {},
   "source": [
    "# Lerne Python\n",
    "oder frische es auf"
   ]
  },
  {
   "cell_type": "markdown",
   "id": "a3197619-f864-48e9-b66a-632574d426b9",
   "metadata": {},
   "source": [
    "### Interaktives Buch"
   ]
  },
  {
   "cell_type": "code",
   "execution_count": 1,
   "id": "37253f39-26ad-43a5-b924-4131d8777ec1",
   "metadata": {},
   "outputs": [
    {
     "name": "stdout",
     "output_type": "stream",
     "text": [
      "Cloning into 'WhirlwindTourOfPython'...\n",
      "remote: Enumerating objects: 336, done.\u001b[K\n",
      "remote: Counting objects: 100% (138/138), done.\u001b[K\n",
      "remote: Compressing objects: 100% (27/27), done.\u001b[K\n",
      "remote: Total 336 (delta 119), reused 111 (delta 111), pack-reused 198\u001b[K\n",
      "Receiving objects: 100% (336/336), 765.83 KiB | 5.59 MiB/s, done.\n",
      "Resolving deltas: 100% (208/208), done.\n"
     ]
    }
   ],
   "source": [
    "!git clone https://github.com/jakevdp/WhirlwindTourOfPython"
   ]
  },
  {
   "cell_type": "markdown",
   "id": "16f15d52-1454-42f5-b363-7383188ce121",
   "metadata": {},
   "source": [
    "### Aufgabe: Analyse eines Datensatzes mit Python-Datenstrukturen"
   ]
  },
  {
   "cell_type": "markdown",
   "id": "e744c107-6599-48f8-9179-68ba40e4e7b2",
   "metadata": {},
   "source": [
    "**Ziel:** \n",
    "Erwerbe praktische Erfahrungen mit den Datenstrukturen von Python durch die Analyse eines simulierten Datensatzes.\n",
    "\n",
    "Datensatz: \n",
    " * Liste von Dictionaries.\n",
    " * Jedes Dictionary repräsentiert Daten für eine Person, einschließlich ihres Namens, Alters und der Punktzahlen in mehreren Fächern."
   ]
  },
  {
   "cell_type": "code",
   "execution_count": 4,
   "id": "336121bb-736e-463c-be9f-31b113aa532f",
   "metadata": {},
   "outputs": [
    {
     "data": {
      "text/plain": [
       "[{'name': 'Alice',\n",
       "  'age': 25,\n",
       "  'scores': {'math': 85, 'physics': 90, 'chemistry': 78}},\n",
       " {'name': 'Bob',\n",
       "  'age': 23,\n",
       "  'scores': {'math': 88, 'physics': 82, 'chemistry': 92}},\n",
       " {'name': 'Charlie',\n",
       "  'age': 27,\n",
       "  'scores': {'math': 72, 'physics': 85, 'chemistry': 88}},\n",
       " {'name': 'David',\n",
       "  'age': 22,\n",
       "  'scores': {'math': 90, 'physics': 78, 'chemistry': 76}}]"
      ]
     },
     "execution_count": 4,
     "metadata": {},
     "output_type": "execute_result"
    }
   ],
   "source": [
    "import json\n",
    "with open(\"task1.json\") as file:\n",
    "    data = json.load(file)\n",
    "\n",
    "data"
   ]
  },
  {
   "cell_type": "markdown",
   "id": "e62e3805-1d3d-4938-86e5-e39ac23784ca",
   "metadata": {},
   "source": [
    "* Aufgaben:\n",
    "  * Listen-Erstellung: Extrahiere die Namen aller Personen im Datensatz und speichere sie in einer Liste.\n",
    "  * Analyse von Wörterbüchern: Berechne den Durchschnitt der Punktzahlen für jedes Fach über alle Personen. Speichere die Ergebnisse in einem Wörterbuch mit den Fächern als Schlüssel und den Durchschnittspunktzahlen als Werte.\n",
    "  * Verwendung von Mengen (Sets): Ermittle die Fächer, in denen irgendeine Person mehr als 90 Punkte erreicht hat. Gib diese Fächer als Set zurück.\n",
    "  * Tupel: Berechne für jede Person den Durchschnitt der Punktzahlen über alle Fächer und speichere das Ergebnis als Tupel (name, durchschnittliche_punktzahl).\n",
    "  * Komplexe Filterung: Ermittle die Personen, die älter als 23 sind und in mindestens zwei Fächern mehr als 85 Punkte erreicht haben.\n",
    "\n",
    "* Erwartete Ausgaben:\n",
    "  * Liste der Namen: `['Alice', 'Bob', 'Charlie', 'David']`\n",
    "  * Wörterbuch mit Durchschnittspunktzahlen: z.B., `{'math': durchschnitt_math, 'physics': durchschnitt_physik, 'chemistry': durchschnitt_chemie}`\n",
    "  * Set der Fächer mit hohen Punktzahlen: z.B., `{'math', 'chemistry'}`\n",
    "  * Sortierte Liste der Tupel: z.B., `[(Alice, 84.33), (Bob, 87.33), ...]`\n",
    "  * Gefilterte Personenliste: z.B., `['Alice', 'Charlie']` "
   ]
  },
  {
   "attachments": {},
   "cell_type": "markdown",
   "id": "ff747621",
   "metadata": {},
   "source": [
    "***Aufgabe 1***   "
   ]
  },
  {
   "cell_type": "code",
   "execution_count": 2,
   "id": "394f7c43",
   "metadata": {},
   "outputs": [],
   "source": [
    "data = [{'name': 'Alice',\n",
    "  'age': 25,\n",
    "  'scores': {'math': 85, 'physics': 90, 'chemistry': 78}},\n",
    " {'name': 'Bob',\n",
    "  'age': 23,\n",
    "  'scores': {'math': 88, 'physics': 82, 'chemistry': 92}},\n",
    " {'name': 'Charlie',\n",
    "  'age': 27,\n",
    "  'scores': {'math': 72, 'physics': 85, 'chemistry': 88}},\n",
    " {'name': 'David',\n",
    "  'age': 22,\n",
    "  'scores': {'math': 90, 'physics': 78, 'chemistry': 76}}]"
   ]
  },
  {
   "cell_type": "code",
   "execution_count": 3,
   "id": "7ee7645d",
   "metadata": {},
   "outputs": [
    {
     "data": {
      "text/plain": [
       "['Alice', 'Bob', 'Charlie', 'David']"
      ]
     },
     "execution_count": 3,
     "metadata": {},
     "output_type": "execute_result"
    }
   ],
   "source": [
    "names_list = [person['name'] for person in data]\n",
    "names_list"
   ]
  },
  {
   "attachments": {},
   "cell_type": "markdown",
   "id": "466f15f3",
   "metadata": {},
   "source": [
    "***Augabe 2***"
   ]
  },
  {
   "cell_type": "code",
   "execution_count": 5,
   "id": "52881460",
   "metadata": {},
   "outputs": [
    {
     "data": {
      "text/plain": [
       "{'math': 83.75, 'physics': 83.75, 'chemistry': 83.5}"
      ]
     },
     "execution_count": 5,
     "metadata": {},
     "output_type": "execute_result"
    }
   ],
   "source": [
    "subject_averages = {}\n",
    "for person in data:\n",
    "    for subject, score in person['scores'].items():\n",
    "        if subject not in subject_averages:\n",
    "            subject_averages[subject] = []\n",
    "        subject_averages[subject].append(score)\n",
    "\n",
    "for subject, scores in subject_averages.items():\n",
    "    subject_averages[subject] = sum(scores) / len(scores)\n",
    "\n",
    "subject_averages"
   ]
  },
  {
   "attachments": {},
   "cell_type": "markdown",
   "id": "cb58c735",
   "metadata": {},
   "source": [
    "***Aufgabe 3***"
   ]
  },
  {
   "cell_type": "code",
   "execution_count": 6,
   "id": "d7c098df",
   "metadata": {},
   "outputs": [
    {
     "data": {
      "text/plain": [
       "{'chemistry'}"
      ]
     },
     "execution_count": 6,
     "metadata": {},
     "output_type": "execute_result"
    }
   ],
   "source": [
    "high_score_subjects = set()\n",
    "for person in data:\n",
    "    for subject, score in person['scores'].items():\n",
    "        if score > 90:\n",
    "            high_score_subjects.add(subject)\n",
    "high_score_subjects"
   ]
  },
  {
   "attachments": {},
   "cell_type": "markdown",
   "id": "84f8ed85",
   "metadata": {},
   "source": [
    "***Augabe 4***"
   ]
  },
  {
   "cell_type": "code",
   "execution_count": 7,
   "id": "9a1b0000",
   "metadata": {},
   "outputs": [
    {
     "data": {
      "text/plain": [
       "[('Alice', 84.33333333333333),\n",
       " ('Bob', 87.33333333333333),\n",
       " ('Charlie', 81.66666666666667),\n",
       " ('David', 81.33333333333333)]"
      ]
     },
     "execution_count": 7,
     "metadata": {},
     "output_type": "execute_result"
    }
   ],
   "source": [
    "average_scores = []\n",
    "for person in data:\n",
    "    average_score = sum(person['scores'].values()) / len(person['scores'])\n",
    "    average_scores.append((person['name'], average_score))\n",
    "average_scores"
   ]
  },
  {
   "attachments": {},
   "cell_type": "markdown",
   "id": "8e5e36b9",
   "metadata": {},
   "source": [
    "***Aufgabe 5***"
   ]
  },
  {
   "cell_type": "code",
   "execution_count": 8,
   "id": "9dc59b8a",
   "metadata": {},
   "outputs": [
    {
     "data": {
      "text/plain": [
       "[]"
      ]
     },
     "execution_count": 8,
     "metadata": {},
     "output_type": "execute_result"
    }
   ],
   "source": [
    "filtered_persons = []\n",
    "for person in data:\n",
    "    if person['age'] > 23 and sum(score > 85 for score in person['scores'].values()) >= 2:\n",
    "        filtered_persons.append(person['name'])\n",
    "        \n",
    "filtered_persons"
   ]
  },
  {
   "cell_type": "code",
   "execution_count": null,
   "id": "3b67e5f1",
   "metadata": {},
   "outputs": [],
   "source": []
  }
 ],
 "metadata": {
  "kernelspec": {
   "display_name": "Python 3 (ipykernel)",
   "language": "python",
   "name": "python3"
  },
  "language_info": {
   "codemirror_mode": {
    "name": "ipython",
    "version": 3
   },
   "file_extension": ".py",
   "mimetype": "text/x-python",
   "name": "python",
   "nbconvert_exporter": "python",
   "pygments_lexer": "ipython3",
   "version": "3.10.9"
  }
 },
 "nbformat": 4,
 "nbformat_minor": 5
}
